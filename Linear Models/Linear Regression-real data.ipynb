{
 "cells": [
  {
   "cell_type": "markdown",
   "metadata": {},
   "source": [
    "# Preprocessing"
   ]
  },
  {
   "cell_type": "code",
   "execution_count": 1,
   "metadata": {
    "collapsed": true
   },
   "outputs": [],
   "source": [
    "import pandas as pd\n",
    "import numpy as np\n",
    "import matplotlib.pyplot as plt"
   ]
  },
  {
   "cell_type": "code",
   "execution_count": 2,
   "metadata": {
    "scrolled": false
   },
   "outputs": [
    {
     "name": "stdout",
     "output_type": "stream",
     "text": [
      "Non estandarized data\n"
     ]
    },
    {
     "data": {
      "text/html": [
       "<div>\n",
       "<style>\n",
       "    .dataframe thead tr:only-child th {\n",
       "        text-align: right;\n",
       "    }\n",
       "\n",
       "    .dataframe thead th {\n",
       "        text-align: left;\n",
       "    }\n",
       "\n",
       "    .dataframe tbody tr th {\n",
       "        vertical-align: top;\n",
       "    }\n",
       "</style>\n",
       "<table border=\"1\" class=\"dataframe\">\n",
       "  <thead>\n",
       "    <tr style=\"text-align: right;\">\n",
       "      <th></th>\n",
       "      <th>Unnamed: 0</th>\n",
       "      <th>symboling</th>\n",
       "      <th>normalized-losses</th>\n",
       "      <th>make</th>\n",
       "      <th>fuel-type</th>\n",
       "      <th>aspiration</th>\n",
       "      <th>num-of-doors</th>\n",
       "      <th>body-style</th>\n",
       "      <th>drive-wheels</th>\n",
       "      <th>engine-location</th>\n",
       "      <th>...</th>\n",
       "      <th>num-of-cylinders</th>\n",
       "      <th>engine-size</th>\n",
       "      <th>fuel-system</th>\n",
       "      <th>bore</th>\n",
       "      <th>stroke</th>\n",
       "      <th>compression-ratio</th>\n",
       "      <th>horsepower</th>\n",
       "      <th>peak-rpm</th>\n",
       "      <th>city-mpg</th>\n",
       "      <th>highway-mpg</th>\n",
       "    </tr>\n",
       "  </thead>\n",
       "  <tbody>\n",
       "    <tr>\n",
       "      <th>0</th>\n",
       "      <td>0</td>\n",
       "      <td>1.743470</td>\n",
       "      <td>0.000000</td>\n",
       "      <td>-1.948256</td>\n",
       "      <td>0.328798</td>\n",
       "      <td>-0.469295</td>\n",
       "      <td>1.120713</td>\n",
       "      <td>-3.050975</td>\n",
       "      <td>1.213330</td>\n",
       "      <td>-0.121867</td>\n",
       "      <td>...</td>\n",
       "      <td>-0.147475</td>\n",
       "      <td>0.074449</td>\n",
       "      <td>0.869568</td>\n",
       "      <td>0.519089</td>\n",
       "      <td>-1.839404</td>\n",
       "      <td>-0.288349</td>\n",
       "      <td>0.171065</td>\n",
       "      <td>-0.263484</td>\n",
       "      <td>-0.646553</td>\n",
       "      <td>-0.546059</td>\n",
       "    </tr>\n",
       "    <tr>\n",
       "      <th>1</th>\n",
       "      <td>1</td>\n",
       "      <td>1.743470</td>\n",
       "      <td>0.000000</td>\n",
       "      <td>-1.948256</td>\n",
       "      <td>0.328798</td>\n",
       "      <td>-0.469295</td>\n",
       "      <td>1.120713</td>\n",
       "      <td>-3.050975</td>\n",
       "      <td>1.213330</td>\n",
       "      <td>-0.121867</td>\n",
       "      <td>...</td>\n",
       "      <td>-0.147475</td>\n",
       "      <td>0.074449</td>\n",
       "      <td>0.869568</td>\n",
       "      <td>0.519089</td>\n",
       "      <td>-1.839404</td>\n",
       "      <td>-0.288349</td>\n",
       "      <td>0.171065</td>\n",
       "      <td>-0.263484</td>\n",
       "      <td>-0.646553</td>\n",
       "      <td>-0.546059</td>\n",
       "    </tr>\n",
       "    <tr>\n",
       "      <th>2</th>\n",
       "      <td>2</td>\n",
       "      <td>0.133509</td>\n",
       "      <td>0.000000</td>\n",
       "      <td>-1.948256</td>\n",
       "      <td>0.328798</td>\n",
       "      <td>-0.469295</td>\n",
       "      <td>1.120713</td>\n",
       "      <td>-0.717207</td>\n",
       "      <td>1.213330</td>\n",
       "      <td>-0.121867</td>\n",
       "      <td>...</td>\n",
       "      <td>1.112210</td>\n",
       "      <td>0.604046</td>\n",
       "      <td>0.869568</td>\n",
       "      <td>-2.404862</td>\n",
       "      <td>0.685920</td>\n",
       "      <td>-0.288349</td>\n",
       "      <td>1.261807</td>\n",
       "      <td>-0.263484</td>\n",
       "      <td>-0.953012</td>\n",
       "      <td>-0.691627</td>\n",
       "    </tr>\n",
       "    <tr>\n",
       "      <th>3</th>\n",
       "      <td>3</td>\n",
       "      <td>0.938490</td>\n",
       "      <td>1.328961</td>\n",
       "      <td>-1.788499</td>\n",
       "      <td>0.328798</td>\n",
       "      <td>-0.469295</td>\n",
       "      <td>-0.826289</td>\n",
       "      <td>0.449677</td>\n",
       "      <td>-0.589081</td>\n",
       "      <td>-0.121867</td>\n",
       "      <td>...</td>\n",
       "      <td>-0.147475</td>\n",
       "      <td>-0.431076</td>\n",
       "      <td>0.869568</td>\n",
       "      <td>-0.517248</td>\n",
       "      <td>0.462157</td>\n",
       "      <td>-0.035973</td>\n",
       "      <td>-0.057230</td>\n",
       "      <td>0.787346</td>\n",
       "      <td>-0.186865</td>\n",
       "      <td>-0.109354</td>\n",
       "    </tr>\n",
       "    <tr>\n",
       "      <th>4</th>\n",
       "      <td>4</td>\n",
       "      <td>0.938490</td>\n",
       "      <td>1.328961</td>\n",
       "      <td>-1.788499</td>\n",
       "      <td>0.328798</td>\n",
       "      <td>-0.469295</td>\n",
       "      <td>-0.826289</td>\n",
       "      <td>0.449677</td>\n",
       "      <td>-2.391492</td>\n",
       "      <td>-0.121867</td>\n",
       "      <td>...</td>\n",
       "      <td>-1.407161</td>\n",
       "      <td>0.218885</td>\n",
       "      <td>0.869568</td>\n",
       "      <td>-0.517248</td>\n",
       "      <td>0.462157</td>\n",
       "      <td>-0.540725</td>\n",
       "      <td>0.272529</td>\n",
       "      <td>0.787346</td>\n",
       "      <td>-1.106241</td>\n",
       "      <td>-1.273900</td>\n",
       "    </tr>\n",
       "  </tbody>\n",
       "</table>\n",
       "<p>5 rows × 26 columns</p>\n",
       "</div>"
      ],
      "text/plain": [
       "   Unnamed: 0  symboling  normalized-losses      make  fuel-type  aspiration  \\\n",
       "0           0   1.743470           0.000000 -1.948256   0.328798   -0.469295   \n",
       "1           1   1.743470           0.000000 -1.948256   0.328798   -0.469295   \n",
       "2           2   0.133509           0.000000 -1.948256   0.328798   -0.469295   \n",
       "3           3   0.938490           1.328961 -1.788499   0.328798   -0.469295   \n",
       "4           4   0.938490           1.328961 -1.788499   0.328798   -0.469295   \n",
       "\n",
       "   num-of-doors  body-style  drive-wheels  engine-location     ...       \\\n",
       "0      1.120713   -3.050975      1.213330        -0.121867     ...        \n",
       "1      1.120713   -3.050975      1.213330        -0.121867     ...        \n",
       "2      1.120713   -0.717207      1.213330        -0.121867     ...        \n",
       "3     -0.826289    0.449677     -0.589081        -0.121867     ...        \n",
       "4     -0.826289    0.449677     -2.391492        -0.121867     ...        \n",
       "\n",
       "   num-of-cylinders  engine-size  fuel-system      bore    stroke  \\\n",
       "0         -0.147475     0.074449     0.869568  0.519089 -1.839404   \n",
       "1         -0.147475     0.074449     0.869568  0.519089 -1.839404   \n",
       "2          1.112210     0.604046     0.869568 -2.404862  0.685920   \n",
       "3         -0.147475    -0.431076     0.869568 -0.517248  0.462157   \n",
       "4         -1.407161     0.218885     0.869568 -0.517248  0.462157   \n",
       "\n",
       "   compression-ratio  horsepower  peak-rpm  city-mpg  highway-mpg  \n",
       "0          -0.288349    0.171065 -0.263484 -0.646553    -0.546059  \n",
       "1          -0.288349    0.171065 -0.263484 -0.646553    -0.546059  \n",
       "2          -0.288349    1.261807 -0.263484 -0.953012    -0.691627  \n",
       "3          -0.035973   -0.057230  0.787346 -0.186865    -0.109354  \n",
       "4          -0.540725    0.272529  0.787346 -1.106241    -1.273900  \n",
       "\n",
       "[5 rows x 26 columns]"
      ]
     },
     "execution_count": 2,
     "metadata": {},
     "output_type": "execute_result"
    }
   ],
   "source": [
    "url = \"../datasets/car/imports-85-standarize.data\"\n",
    "\n",
    "# load dataset into Pandas DataFrame\n",
    "df = pd.read_csv(url, na_values= ['?'])\n",
    "features = df.columns\n",
    "\n",
    "print(\"Non estandarized data\")\n",
    "df.head()"
   ]
  },
  {
   "cell_type": "markdown",
   "metadata": {},
   "source": [
    "# Standarization"
   ]
  },
  {
   "cell_type": "code",
   "execution_count": 3,
   "metadata": {
    "collapsed": true
   },
   "outputs": [],
   "source": [
    "def PCA(X, n_components):\n",
    "    # normalize to zero mean\n",
    "    mu = X.mean(axis=0)\n",
    "    X = X - mu\n",
    "    \n",
    "    # eigenvectors of covariance matrix\n",
    "    sigma = X.T @ X\n",
    "    eigvals, eigvecs = np.linalg.eig(sigma)\n",
    "    \n",
    "    # principal components\n",
    "    order = np.argsort(eigvals)[::-1]\n",
    "    components = eigvecs[:, order[:n_components]]\n",
    "    \n",
    "    # projection\n",
    "    Z = X @ components\n",
    "    \n",
    "    # result\n",
    "    return Z, components, eigvals[order]"
   ]
  },
  {
   "cell_type": "code",
   "execution_count": 4,
   "metadata": {
    "collapsed": true,
    "scrolled": true
   },
   "outputs": [],
   "source": [
    "X_train = df.as_matrix()[:190, 1:-1]\n",
    "Y_train = df.as_matrix()[:190, -1]\n",
    "X_test = df.as_matrix()[190:, 1:-1]\n",
    "Y_test = df.as_matrix()[190:, -1]"
   ]
  },
  {
   "cell_type": "code",
   "execution_count": 5,
   "metadata": {},
   "outputs": [],
   "source": [
    "Z, components, eigvals = PCA(X_train, 2)"
   ]
  },
  {
   "cell_type": "code",
   "execution_count": 6,
   "metadata": {},
   "outputs": [
    {
     "data": {
      "text/plain": [
       "0.8696844168330821"
      ]
     },
     "execution_count": 6,
     "metadata": {},
     "output_type": "execute_result"
    }
   ],
   "source": [
    "eigvals[:10].sum()/np.sum(eigvals)"
   ]
  },
  {
   "cell_type": "code",
   "execution_count": 7,
   "metadata": {},
   "outputs": [
    {
     "data": {
      "image/png": "[encoded data removed]",
      "text/plain": [
       "<matplotlib.figure.Figure at 0x7f15848f6dd8>"
      ]
     },
     "metadata": {},
     "output_type": "display_data"
    }
   ],
   "source": [
    "plt.scatter(Z[:,0],Z[:,1])\n",
    "plt.show()"
   ]
  },
  {
   "cell_type": "markdown",
   "metadata": {
    "collapsed": true
   },
   "source": [
    "# Prediction\n",
    "\n",
    "## Scikit - learn"
   ]
  },
  {
   "cell_type": "code",
   "execution_count": 8,
   "metadata": {
    "collapsed": true
   },
   "outputs": [],
   "source": [
    "X_train_ = np.append(np.ones((X_train.shape[0], 1)), X_train, axis=1)\n",
    "Y_train_ = Y_train.reshape((Y_train.shape[0], 1))\n",
    "theta = np.ones((X_train_.shape[1], 1))\n",
    "lr = 0.003"
   ]
  },
  {
   "cell_type": "code",
   "execution_count": 9,
   "metadata": {},
   "outputs": [
    {
     "data": {
      "text/plain": [
       "((190, 25), (190, 1), (25, 1))"
      ]
     },
     "execution_count": 9,
     "metadata": {},
     "output_type": "execute_result"
    }
   ],
   "source": [
    "X_train_.shape, Y_train_.shape, theta.shape"
   ]
  },
  {
   "cell_type": "code",
   "execution_count": 12,
   "metadata": {
    "collapsed": true
   },
   "outputs": [],
   "source": [
    "X_test_ = np.append(np.ones((X_test.shape[0], 1)), X_test, axis=1)\n",
    "Y_test_ = Y_test.reshape((Y_test.shape[0], 1))"
   ]
  },
  {
   "cell_type": "code",
   "execution_count": 14,
   "metadata": {
    "scrolled": false
   },
   "outputs": [
    {
     "name": "stdout",
     "output_type": "stream",
     "text": [
      "Coefficients: \n",
      " [[ 0.00000000e+00  4.50109699e-02  3.55091684e-02  1.63804605e-03\n",
      "  -2.21765191e-01 -1.31882043e-01 -5.48801746e-02  2.44158732e-04\n",
      "   3.68958559e-03  1.41239243e-02 -5.64805720e-02  6.29752299e-02\n",
      "  -8.12255601e-03 -3.48272725e-03 -1.44115097e-01  3.08071118e-03\n",
      "  -2.52019913e-02 -1.99925300e-01 -1.04012211e-02 -1.77133779e-02\n",
      "   4.31681670e-02 -1.62444372e-01  2.84000803e-01 -7.75435780e-02\n",
      "   9.30897702e-01]]\n",
      "Mean squared error: 0.06\n",
      "Mean squared error mine: 0.03\n",
      "Variance score: 0.81\n"
     ]
    }
   ],
   "source": [
    "from sklearn import linear_model\n",
    "from sklearn.metrics import mean_squared_error, r2_score\n",
    "\n",
    "# Create linear regression object\n",
    "regr = linear_model.LinearRegression()\n",
    "\n",
    "# Train the model using the training sets\n",
    "regr.fit(X_train_,Y_train_)\n",
    "\n",
    "# Make predictions using the testing set\n",
    "y_pred = regr.predict(X_test_)\n",
    "\n",
    "# The coefficients\n",
    "print('Coefficients: \\n', regr.coef_)\n",
    "# The mean squared error\n",
    "print(\"Mean squared error: %.2f\"\n",
    "      % mean_squared_error(Y_test_, y_pred))\n",
    "print(\"Mean squared error mine: %.2f\"\n",
    "      % mean_squared_error_mine(Y_test_, y_pred))\n",
    "# Explained variance score: 1 is perfect prediction\n",
    "print('Variance score: %.2f' % r2_score(Y_test_, y_pred))"
   ]
  },
  {
   "cell_type": "markdown",
   "metadata": {},
   "source": [
    "## Mine"
   ]
  },
  {
   "cell_type": "code",
   "execution_count": 15,
   "metadata": {
    "collapsed": true
   },
   "outputs": [],
   "source": [
    "def linearRegression(X, theta):\n",
    "    return np.dot(X, theta)"
   ]
  },
  {
   "cell_type": "code",
   "execution_count": 10,
   "metadata": {
    "collapsed": true
   },
   "outputs": [],
   "source": [
    "def mean_squared_error_mine(Y, Y_pred):\n",
    "    return (1/(2*Y.shape[0]))*((Y_pred-Y)**2).sum()"
   ]
  },
  {
   "cell_type": "code",
   "execution_count": 16,
   "metadata": {
    "collapsed": true
   },
   "outputs": [],
   "source": [
    "def gradient(X, theta, Y, lr):\n",
    "    h = linearRegression(X, theta)\n",
    "    derivative = X.T@(h - Y)\n",
    "    theta = theta - lr * derivative * 1/X.shape[0]\n",
    "    return theta"
   ]
  },
  {
   "cell_type": "code",
   "execution_count": 35,
   "metadata": {
    "scrolled": true
   },
   "outputs": [
    {
     "name": "stdout",
     "output_type": "stream",
     "text": [
      "Final Error: 0.0344749028749573\n"
     ]
    }
   ],
   "source": [
    "for i in range(10000):\n",
    "    Y_pred = linearRegression(X_train_, theta)\n",
    "    #print(\"Error: {}\".format(mean_squared_error(Y, Y_pred)))\n",
    "    theta = gradient(X_train_, theta, Y_train_, lr)\n",
    "\n",
    "print(\"Final Error: {}\".format(mean_squared_error(Y_train_, Y_pred)))"
   ]
  },
  {
   "cell_type": "code",
   "execution_count": 36,
   "metadata": {},
   "outputs": [
    {
     "name": "stdout",
     "output_type": "stream",
     "text": [
      "Mean squared error: 0.05\n",
      "Mean squared error mine: 0.02\n",
      "Variance score: 0.81\n"
     ]
    }
   ],
   "source": [
    "# Make predictions using the testing set\n",
    "y_pred_mine = linearRegression(X_test_, theta)\n",
    "\n",
    "# The mean squared error\n",
    "print(\"Mean squared error: %.2f\"\n",
    "      % mean_squared_error(Y_test_, y_pred_mine))\n",
    "print(\"Mean squared error mine: %.2f\"\n",
    "      % mean_squared_error_mine(Y_test_, y_pred_mine))\n",
    "# Explained variance score: 1 is perfect prediction\n",
    "print('Variance score: %.2f' % r2_score(Y_test, y_pred))"
   ]
  },
  {
   "cell_type": "code",
   "execution_count": 37,
   "metadata": {},
   "outputs": [
    {
     "data": {
      "text/plain": [
       "array([[ 0.01176171],\n",
       "       [ 0.00929098],\n",
       "       [-0.06560625],\n",
       "       [-0.00737727],\n",
       "       [-0.04906138],\n",
       "       [-0.04307909],\n",
       "       [-0.04757882],\n",
       "       [-0.04113139],\n",
       "       [ 0.01974978],\n",
       "       [ 0.02604216],\n",
       "       [-0.0436473 ],\n",
       "       [-0.04745284],\n",
       "       [ 0.01990542],\n",
       "       [-0.05671909],\n",
       "       [-0.12452621]])"
      ]
     },
     "execution_count": 37,
     "metadata": {},
     "output_type": "execute_result"
    }
   ],
   "source": [
    "y_pred-y_pred_mine"
   ]
  },
  {
   "cell_type": "code",
   "execution_count": null,
   "metadata": {
    "collapsed": true
   },
   "outputs": [],
   "source": []
  }
 ],
 "metadata": {
  "kernelspec": {
   "display_name": "Python 3",
   "language": "python",
   "name": "python3"
  },
  "language_info": {
   "codemirror_mode": {
    "name": "ipython",
    "version": 3
   },
   "file_extension": ".py",
   "mimetype": "text/x-python",
   "name": "python",
   "nbconvert_exporter": "python",
   "pygments_lexer": "ipython3",
   "version": "3.6.3"
  }
 },
 "nbformat": 4,
 "nbformat_minor": 2
}
