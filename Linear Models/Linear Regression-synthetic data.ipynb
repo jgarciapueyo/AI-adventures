{
 "cells": [
  {
   "cell_type": "code",
   "execution_count": 1,
   "metadata": {
    "collapsed": true
   },
   "outputs": [],
   "source": [
    "import matplotlib.pyplot as plt\n",
    "import numpy as np\n",
    "from sklearn import datasets, linear_model\n",
    "from sklearn.metrics import mean_squared_error, r2_score\n",
    "%matplotlib inline"
   ]
  },
  {
   "cell_type": "code",
   "execution_count": 2,
   "metadata": {},
   "outputs": [
    {
     "data": {
      "image/png": "[encoded data removed]",
      "text/plain": [
       "<matplotlib.figure.Figure at 0x7f9525e1c940>"
      ]
     },
     "metadata": {},
     "output_type": "display_data"
    }
   ],
   "source": [
    "X = np.linspace(0,5,100)\n",
    "Y=1.5*X+2#+np.random.normal(1,1,100) \n",
    "plt.scatter(X,Y,label='y=1.5x+c+N(\\mu=0,\\sigma=1)') \n",
    "plt.legend() \n",
    "plt.title('Noise data points')\n",
    "plt.show()"
   ]
  },
  {
   "cell_type": "code",
   "execution_count": 3,
   "metadata": {
    "collapsed": true
   },
   "outputs": [],
   "source": [
    "X = np.linspace(0,5,100)\n",
    "Y=1.5*X+2#+np.random.normal(1,1,100)\n",
    "X = np.vstack((np.ones(X.shape), X)).T\n",
    "Y = Y.reshape((100, 1))\n",
    "theta = np.ones((2, 1))"
   ]
  },
  {
   "cell_type": "code",
   "execution_count": 4,
   "metadata": {},
   "outputs": [
    {
     "data": {
      "text/plain": [
       "(100, 2)"
      ]
     },
     "execution_count": 4,
     "metadata": {},
     "output_type": "execute_result"
    }
   ],
   "source": [
    "X.shape"
   ]
  },
  {
   "cell_type": "code",
   "execution_count": 4,
   "metadata": {
    "collapsed": true
   },
   "outputs": [],
   "source": [
    "def linearRegression(X, theta):\n",
    "    return np.dot(X, theta)"
   ]
  },
  {
   "cell_type": "code",
   "execution_count": 5,
   "metadata": {
    "collapsed": true
   },
   "outputs": [],
   "source": [
    "def mean_squared_error(Y, Y_pred):\n",
    "    return (1/(2*Y.shape[0]))*((Y_pred-Y)**2).sum()"
   ]
  },
  {
   "cell_type": "code",
   "execution_count": 6,
   "metadata": {
    "collapsed": true
   },
   "outputs": [],
   "source": [
    "def gradient(X, theta, Y, lr):\n",
    "    h = linearRegression(X, theta)\n",
    "    derivative = X.T@(h - Y)\n",
    "    theta = theta - lr * derivative * 1/X.shape[0]\n",
    "    return theta"
   ]
  },
  {
   "cell_type": "code",
   "execution_count": 21,
   "metadata": {},
   "outputs": [
    {
     "name": "stdout",
     "output_type": "stream",
     "text": [
      "Final Error: 7.158914432632452e-21\n"
     ]
    }
   ],
   "source": [
    "lr = 0.003\n",
    "for i in range(10000):\n",
    "    Y_pred = linearRegression(X, theta)\n",
    "    #print(\"Error: {}\".format(mean_squared_error(Y, Y_pred)))\n",
    "    theta = gradient(X, theta, Y, lr)\n",
    "\n",
    "print(\"Final Error: {}\".format(mean_squared_error(Y, Y_pred)))"
   ]
  },
  {
   "cell_type": "code",
   "execution_count": 22,
   "metadata": {},
   "outputs": [
    {
     "data": {
      "image/png": "[encoded data removed]",
      "text/plain": [
       "<matplotlib.figure.Figure at 0x7fdfb3a55048>"
      ]
     },
     "metadata": {},
     "output_type": "display_data"
    }
   ],
   "source": [
    "plt.scatter(X[:, 1:],Y,label='y=1.5x+c+N(\\mu=0,\\sigma=1)')\n",
    "plt.plot(np.linspace(0,5,100), theta[0]+np.linspace(0,5,100)*theta[1]) \n",
    "plt.title('Noise data points')\n",
    "plt.show()"
   ]
  },
  {
   "cell_type": "code",
   "execution_count": null,
   "metadata": {
    "collapsed": true
   },
   "outputs": [],
   "source": []
  }
 ],
 "metadata": {
  "kernelspec": {
   "display_name": "Python 3",
   "language": "python",
   "name": "python3"
  },
  "language_info": {
   "codemirror_mode": {
    "name": "ipython",
    "version": 3
   },
   "file_extension": ".py",
   "mimetype": "text/x-python",
   "name": "python",
   "nbconvert_exporter": "python",
   "pygments_lexer": "ipython3",
   "version": "3.6.3"
  }
 },
 "nbformat": 4,
 "nbformat_minor": 2
}
