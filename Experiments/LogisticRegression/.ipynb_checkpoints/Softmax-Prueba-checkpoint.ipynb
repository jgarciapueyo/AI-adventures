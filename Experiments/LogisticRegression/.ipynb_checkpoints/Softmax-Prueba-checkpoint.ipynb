{
 "cells": [
  {
   "cell_type": "code",
   "execution_count": 1,
   "metadata": {
    "collapsed": true
   },
   "outputs": [],
   "source": [
    "import numpy as np #library to work with vectors and matrix\n",
    "import matplotlib.pyplot as plt #library to work with graphics and plots\n",
    "from scipy.optimize import fmin_l_bfgs_b\n",
    "\n",
    "%matplotlib inline"
   ]
  },
  {
   "cell_type": "code",
   "execution_count": 36,
   "metadata": {
    "collapsed": true
   },
   "outputs": [],
   "source": [
    "from sklearn.metrics import precision_score\n",
    "from sklearn.metrics import recall_score"
   ]
  },
  {
   "cell_type": "code",
   "execution_count": 2,
   "metadata": {
    "collapsed": true
   },
   "outputs": [],
   "source": [
    "def mnist(path=None):\n",
    "    r\"\"\"Return (train_images, train_labels, test_images, test_labels).\n",
    "\n",
    "    Args:\n",
    "        path (str): Directory containing MNIST. Default is\n",
    "            /home/USER/data/mnist or C:\\Users\\USER\\data\\mnist.\n",
    "            Create if nonexistant. Download any missing files.\n",
    "\n",
    "    Returns:\n",
    "        Tuple of (train_images, train_labels, test_images, test_labels), each\n",
    "            a matrix. Rows are examples. Columns of images are pixel values.\n",
    "            Columns of labels are a onehot encoding of the correct class.\n",
    "    \"\"\"\n",
    "    #Taken from: 'https://mattpetersen.github.io/load-mnist-with-numpy'\n",
    "    import gzip\n",
    "    import os\n",
    "    from urllib.request import urlretrieve\n",
    "\n",
    "    url = 'http://yann.lecun.com/exdb/mnist/'\n",
    "    files = ['train-images-idx3-ubyte.gz',\n",
    "             'train-labels-idx1-ubyte.gz',\n",
    "             't10k-images-idx3-ubyte.gz',\n",
    "             't10k-labels-idx1-ubyte.gz']\n",
    "\n",
    "    if path is None:\n",
    "        # Set path to /home/USER/data/mnist or C:\\Users\\USER\\data\\mnist\n",
    "        path = os.path.join(os.path.expanduser('~'), 'data', 'mnist')\n",
    "\n",
    "    # Create path if it doesn't exist\n",
    "    os.makedirs(path, exist_ok=True)\n",
    "\n",
    "    # Download any missing files\n",
    "    for file in files:\n",
    "        if file not in os.listdir(path):\n",
    "            urlretrieve(url + file, os.path.join(path, file))\n",
    "            print(\"Downloaded %s to %s\" % (file, path))\n",
    "\n",
    "    def _images(path):\n",
    "        \"\"\"Return images loaded locally.\"\"\"\n",
    "        with gzip.open(path) as f:\n",
    "            # First 16 bytes are magic_number, n_imgs, n_rows, n_cols\n",
    "            pixels = np.frombuffer(f.read(), 'B', offset=16)\n",
    "        return pixels.reshape(-1, 784).astype('float32') / 255\n",
    "\n",
    "    def _labels(path):\n",
    "        \"\"\"Return labels loaded locally.\"\"\"\n",
    "        with gzip.open(path) as f:\n",
    "            # First 8 bytes are magic_number, n_labels\n",
    "            integer_labels = np.frombuffer(f.read(), 'B', offset=8)\n",
    "\n",
    "        def _onehot(integer_labels):\n",
    "            \"\"\"Return matrix whose rows are onehot encodings of integers.\"\"\"\n",
    "            n_rows = len(integer_labels)\n",
    "            n_cols = integer_labels.max() + 1\n",
    "            onehot = np.zeros((n_rows, n_cols), dtype='uint8')\n",
    "            onehot[np.arange(n_rows), integer_labels] = 1\n",
    "            return onehot\n",
    "\n",
    "        return _onehot(integer_labels)\n",
    "\n",
    "    train_images = _images(os.path.join(path, files[0]))\n",
    "    train_labels = _labels(os.path.join(path, files[1]))\n",
    "    test_images = _images(os.path.join(path, files[2]))\n",
    "    test_labels = _labels(os.path.join(path, files[3]))\n",
    "\n",
    "    return train_images, train_labels, test_images, test_labels"
   ]
  },
  {
   "cell_type": "code",
   "execution_count": 3,
   "metadata": {
    "collapsed": true
   },
   "outputs": [],
   "source": [
    "train_images, train_labels, test_images, test_labels = mnist(\"../datasets/MNIST\")"
   ]
  },
  {
   "cell_type": "code",
   "execution_count": 4,
   "metadata": {
    "collapsed": true
   },
   "outputs": [],
   "source": [
    "def from_one_hot_to_vector(labels):\n",
    "    return np.argmax(labels, axis=1)"
   ]
  },
  {
   "cell_type": "code",
   "execution_count": 5,
   "metadata": {
    "collapsed": true
   },
   "outputs": [],
   "source": [
    "def softmax(z):\n",
    "    return np.exp(z)/np.sum(np.exp(z), axis=1).reshape((z.shape[0], 1))"
   ]
  },
  {
   "cell_type": "code",
   "execution_count": 6,
   "metadata": {
    "collapsed": true
   },
   "outputs": [],
   "source": [
    "def softmax2(z):\n",
    "    z -= np.max(z)\n",
    "    sm = (np.exp(z).T / np.sum(np.exp(z))).T\n",
    "    return sm"
   ]
  },
  {
   "cell_type": "code",
   "execution_count": 7,
   "metadata": {
    "collapsed": true
   },
   "outputs": [],
   "source": [
    "def getProbsAndPreds(X, theta):\n",
    "    probs = softmax2(X@theta)\n",
    "    preds = probs.argmax(axis=1)\n",
    "    return probs, preds"
   ]
  },
  {
   "cell_type": "code",
   "execution_count": 17,
   "metadata": {
    "collapsed": true
   },
   "outputs": [],
   "source": [
    "def getLoss(X, Y, theta, lam):\n",
    "    prob = softmax(X@theta)\n",
    "    loss = (-1/X.shape[0])*(np.sum(Y*np.log(prob))+(lam/2)*np.sum(theta*theta))\n",
    "    grad = (-1/X.shape[0])*(X.T@(Y-prob))+lam*theta\n",
    "    a = np.sum(X.T@(Y-prob), axis=1)\n",
    "    return loss, grad"
   ]
  },
  {
   "cell_type": "code",
   "execution_count": 18,
   "metadata": {
    "collapsed": true
   },
   "outputs": [],
   "source": [
    "def getLoss2(w,x,y,lam):\n",
    "    m = x.shape[0] #First we get the number of training examples\n",
    "    #y_mat = oneHotIt(y) #Next we convert the integer class coding into a one-hot representation\n",
    "    scores = np.dot(x,w) #Then we compute raw class scores given our input and current weights\n",
    "    prob = softmax(scores) #Next we perform a softmax on these scores to get their probabilities\n",
    "    loss = (-1 / m) * np.sum(y * np.log(prob)) + (lam/2)*np.sum(w*w) #We then find the loss of the probabilities\n",
    "    grad = (-1 / m) * np.dot(x.T,(y - prob)) + lam*w #And compute the gradient for that loss\n",
    "    return loss,grad"
   ]
  },
  {
   "cell_type": "code",
   "execution_count": 19,
   "metadata": {
    "collapsed": true
   },
   "outputs": [],
   "source": [
    "def accuracy(X, Y, theta):\n",
    "    pred = logisticRegression(X, theta).argmax(axis=1)\n",
    "    boolarr = pred == Y\n",
    "    return np.sum(boolarr) / boolarr.size    "
   ]
  },
  {
   "cell_type": "code",
   "execution_count": 20,
   "metadata": {
    "collapsed": true
   },
   "outputs": [],
   "source": [
    "def accuracy2(X, Y, theta):\n",
    "    pred = getProbsAndPreds(X, theta)[1]\n",
    "    boolarr = pred == Y.argmax(axis=1)\n",
    "    return np.sum(boolarr) / boolarr.size    "
   ]
  },
  {
   "cell_type": "code",
   "execution_count": 21,
   "metadata": {
    "collapsed": true
   },
   "outputs": [],
   "source": [
    "theta1 = np.zeros((train_images.shape[1], train_labels.shape[1]))\n",
    "theta2 = theta1\n",
    "costAccumulated1 = []\n",
    "costAccumulated2 = []"
   ]
  },
  {
   "cell_type": "code",
   "execution_count": 69,
   "metadata": {},
   "outputs": [
    {
     "name": "stdout",
     "output_type": "stream",
     "text": [
      "CPU times: user 2min 35s, sys: 2.37 s, total: 2min 37s\n",
      "Wall time: 1min 19s\n"
     ]
    }
   ],
   "source": [
    "%%time\n",
    "lam = 0.0\n",
    "iterations = 5000\n",
    "lr = 0.001\n",
    "for i in range(0, iterations):\n",
    "    index = np.random.randint(0,6000, size=1000)\n",
    "    loss, grad = getLoss(train_images[index], train_labels[index], theta1, lam)\n",
    "    loss2, grad2 = getLoss2(theta1,train_images[index],train_labels[index],lam)\n",
    "    costAccumulated1.append(loss)\n",
    "    costAccumulated2.append(loss2)\n",
    "    theta1 = theta1 - lr*grad"
   ]
  },
  {
   "cell_type": "code",
   "execution_count": 70,
   "metadata": {},
   "outputs": [
    {
     "data": {
      "text/plain": [
       "[<matplotlib.lines.Line2D at 0x7f73cf5fc860>]"
      ]
     },
     "execution_count": 70,
     "metadata": {},
     "output_type": "execute_result"
    },
    {
     "data": {
      "image/png": "[encoded data removed]",
      "text/plain": [
       "<matplotlib.figure.Figure at 0x7f73e98b8c88>"
      ]
     },
     "metadata": {},
     "output_type": "display_data"
    }
   ],
   "source": [
    "plt.plot(costAccumulated1)\n",
    "#plt.plot(costAccumulated2, color='red')"
   ]
  },
  {
   "cell_type": "code",
   "execution_count": 71,
   "metadata": {},
   "outputs": [
    {
     "name": "stdout",
     "output_type": "stream",
     "text": [
      "Training Accuracy:  0.8517333333333333\n",
      "Test Accuracy:  0.8603\n"
     ]
    }
   ],
   "source": [
    "print('Training Accuracy: ', accuracy2(train_images,train_labels, theta1))\n",
    "print('Test Accuracy: ', accuracy2(test_images,test_labels, theta1))"
   ]
  },
  {
   "cell_type": "code",
   "execution_count": 72,
   "metadata": {},
   "outputs": [],
   "source": [
    "scores = np.dot(train_images,theta1)\n",
    "prob = softmax(scores)\n",
    "prob2 = softmax2(scores)"
   ]
  },
  {
   "cell_type": "code",
   "execution_count": 73,
   "metadata": {},
   "outputs": [],
   "source": [
    "pred = getProbsAndPreds(test_images, theta1)[1]\n",
    "prec = precision_score(test_labels.argmax(axis=1), pred, average=None)\n",
    "recall = recall_score(test_labels.argmax(axis=1), pred, average=None)"
   ]
  },
  {
   "cell_type": "code",
   "execution_count": 74,
   "metadata": {},
   "outputs": [],
   "source": [
    "f1 = 2*(prec*recall)/(prec+recall)"
   ]
  },
  {
   "cell_type": "code",
   "execution_count": 75,
   "metadata": {},
   "outputs": [
    {
     "data": {
      "text/plain": [
       "(array([0.93392946, 0.92079627, 0.84584178, 0.84215592, 0.86472946,\n",
       "        0.76112853, 0.88900256, 0.87598425, 0.81089414, 0.82748538]),\n",
       " 0.8571947752451508)"
      ]
     },
     "execution_count": 75,
     "metadata": {},
     "output_type": "execute_result"
    }
   ],
   "source": [
    "f1, f1.mean()"
   ]
  },
  {
   "cell_type": "code",
   "execution_count": 77,
   "metadata": {},
   "outputs": [
    {
     "data": {
      "text/plain": [
       "array([[ 940,    0,    3,    2,    0,    5,   20,    1,    9,    0],\n",
       "       [   0, 1087,    8,    5,    1,    4,    4,    0,   26,    0],\n",
       "       [  11,   36,  834,   26,   16,    0,   24,   25,   55,    5],\n",
       "       [   6,    2,   20,  875,    1,   34,   10,   22,   25,   15],\n",
       "       [   3,    8,    6,    0,  863,    1,   21,    2,    7,   71],\n",
       "       [  29,   11,    8,  102,   30,  607,   27,   14,   46,   18],\n",
       "       [  21,    5,   19,    2,   19,   18,  869,    0,    5,    0],\n",
       "       [   3,   44,   25,    1,   14,    0,    2,  890,    4,   45],\n",
       "       [   7,   19,    7,   41,   12,   24,   18,   17,  789,   40],\n",
       "       [  13,   14,   10,   14,   58,   10,    2,   33,    6,  849]])"
      ]
     },
     "execution_count": 77,
     "metadata": {},
     "output_type": "execute_result"
    }
   ],
   "source": [
    "from sklearn.metrics import confusion_matrix\n",
    "cm = confusion_matrix(test_labels.argmax(axis=1), pred)\n",
    "cm"
   ]
  },
  {
   "cell_type": "code",
   "execution_count": 80,
   "metadata": {},
   "outputs": [
    {
     "data": {
      "text/plain": [
       "array([[0.96, 0.  , 0.  , 0.  , 0.  , 0.01, 0.02, 0.  , 0.01, 0.  ],\n",
       "       [0.  , 0.96, 0.01, 0.  , 0.  , 0.  , 0.  , 0.  , 0.02, 0.  ],\n",
       "       [0.01, 0.03, 0.81, 0.03, 0.02, 0.  , 0.02, 0.02, 0.05, 0.  ],\n",
       "       [0.01, 0.  , 0.02, 0.87, 0.  , 0.03, 0.01, 0.02, 0.02, 0.01],\n",
       "       [0.  , 0.01, 0.01, 0.  , 0.88, 0.  , 0.02, 0.  , 0.01, 0.07],\n",
       "       [0.03, 0.01, 0.01, 0.11, 0.03, 0.68, 0.03, 0.02, 0.05, 0.02],\n",
       "       [0.02, 0.01, 0.02, 0.  , 0.02, 0.02, 0.91, 0.  , 0.01, 0.  ],\n",
       "       [0.  , 0.04, 0.02, 0.  , 0.01, 0.  , 0.  , 0.87, 0.  , 0.04],\n",
       "       [0.01, 0.02, 0.01, 0.04, 0.01, 0.02, 0.02, 0.02, 0.81, 0.04],\n",
       "       [0.01, 0.01, 0.01, 0.01, 0.06, 0.01, 0.  , 0.03, 0.01, 0.84]])"
      ]
     },
     "execution_count": 80,
     "metadata": {},
     "output_type": "execute_result"
    }
   ],
   "source": [
    "cm = cm.astype('float') / cm.sum(axis=1)[:, np.newaxis]\n",
    "np.around(cm, decimals=2)"
   ]
  }
 ],
 "metadata": {
  "kernelspec": {
   "display_name": "Python 3",
   "language": "python",
   "name": "python3"
  },
  "language_info": {
   "codemirror_mode": {
    "name": "ipython",
    "version": 3
   },
   "file_extension": ".py",
   "mimetype": "text/x-python",
   "name": "python",
   "nbconvert_exporter": "python",
   "pygments_lexer": "ipython3",
   "version": "3.6.3"
  }
 },
 "nbformat": 4,
 "nbformat_minor": 2
}
