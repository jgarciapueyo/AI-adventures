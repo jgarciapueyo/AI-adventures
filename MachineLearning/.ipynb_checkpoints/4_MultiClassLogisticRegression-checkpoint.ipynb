{
 "cells": [
  {
   "cell_type": "markdown",
   "metadata": {},
   "source": [
    "# Multiclass Logistic Regression\n",
    "## One vs. All\n",
    "\n",
    "### What it is?\n",
    "The previous tutorial on [Logistic Regression](3_BinaryLogisticRegression.ipynb) was about binary output, so the input could belong to class 0 or 1, but that's not very useful because plenty of times the range of classes is greater than two. Here is where this approach fits, it's a generalization of the Binary Logistic Regression so that it can be applied to any number of output classes.\n",
    "\n",
    "Its name comes from the fact that in order to generalize the model, we create as many \"mini-models\" as classes and we train each one to identify only one class, so when it sees an input, it knows if it belongs to that class or not, but knows nothing about the other classes. ![From Binary to Multiclass Logistic Regression](https://houxianxu.github.io/images/logisticRegression/4.png)\n",
    "\n",
    "More formally speaking, we have an input $x \\in \\mathbb{R}^n$ and a output $y \\in \\mathbb{R}^m$, with $m$ being the number of output classes. The output vector contains a 1 in the position where the class that it belongs to is associated. In the case of the MNIST dataset, a label could be: $y = \\text{[0 0 0 1 0 0 0 0 0 0]}$ to indicate that it's the digit three. What we do is train $m$ \"mini-models\" that can say if an input, for example, is a 3 or not, but in the case that it's not a 3, it doesn't know which digit it is.\n",
    "\n",
    "At the end, the predicted output is the one \"mini-model\" whose output probability is the greatest. ![Prediction Multiclass Logistic Regression](https://www.pugetsystems.com/pic_disp.php?id=43182)\n",
    "\n",
    "###  General explanation of notebook\n",
    "The structure of the notebook is getting all the data and a simple visualization. Later, we will use the scikit-learn library implementation of Logistic Regression. Finally, we will go through the mathematical explanation of this One vs. All generalization and implement it from scratch to compare it.\n",
    "\n",
    "### 1. Getting the data\n",
    "First of all, we have to import all of the dependencies that we will use to retrieve the data, clean it and also visualize it."
   ]
  },
  {
   "cell_type": "code",
   "execution_count": 1,
   "metadata": {
    "collapsed": true
   },
   "outputs": [],
   "source": [
    "import numpy as np #library to work with vectors and matrix\n",
    "import matplotlib.pyplot as plt #library to work with graphics and plots\n",
    "\n",
    "%matplotlib inline"
   ]
  },
  {
   "cell_type": "markdown",
   "metadata": {},
   "source": [
    "We're going to use the famous MNIST dataset, since it contains handritten digits (from 0 to 9) that will represent the 10 output classes."
   ]
  },
  {
   "cell_type": "code",
   "execution_count": 2,
   "metadata": {
    "collapsed": true
   },
   "outputs": [],
   "source": [
    "def mnist(path=None):\n",
    "    r\"\"\"Return (train_images, train_labels, test_images, test_labels).\n",
    "\n",
    "    Args:\n",
    "        path (str): Directory containing MNIST. Default is\n",
    "            /home/USER/data/mnist or C:\\Users\\USER\\data\\mnist.\n",
    "            Create if nonexistant. Download any missing files.\n",
    "\n",
    "    Returns:\n",
    "        Tuple of (train_images, train_labels, test_images, test_labels), each\n",
    "            a matrix. Rows are examples. Columns of images are pixel values.\n",
    "            Columns of labels are a onehot encoding of the correct class.\n",
    "    \"\"\"\n",
    "    #Taken from: 'https://mattpetersen.github.io/load-mnist-with-numpy'\n",
    "    import gzip\n",
    "    import os\n",
    "    from urllib.request import urlretrieve\n",
    "\n",
    "    url = 'http://yann.lecun.com/exdb/mnist/'\n",
    "    files = ['train-images-idx3-ubyte.gz',\n",
    "             'train-labels-idx1-ubyte.gz',\n",
    "             't10k-images-idx3-ubyte.gz',\n",
    "             't10k-labels-idx1-ubyte.gz']\n",
    "\n",
    "    if path is None:\n",
    "        # Set path to /home/USER/data/mnist or C:\\Users\\USER\\data\\mnist\n",
    "        path = os.path.join(os.path.expanduser('~'), 'data', 'mnist')\n",
    "\n",
    "    # Create path if it doesn't exist\n",
    "    os.makedirs(path, exist_ok=True)\n",
    "\n",
    "    # Download any missing files\n",
    "    for file in files:\n",
    "        if file not in os.listdir(path):\n",
    "            urlretrieve(url + file, os.path.join(path, file))\n",
    "            print(\"Downloaded %s to %s\" % (file, path))\n",
    "\n",
    "    def _images(path):\n",
    "        \"\"\"Return images loaded locally.\"\"\"\n",
    "        with gzip.open(path) as f:\n",
    "            # First 16 bytes are magic_number, n_imgs, n_rows, n_cols\n",
    "            pixels = np.frombuffer(f.read(), 'B', offset=16)\n",
    "        return pixels.reshape(-1, 784).astype('float32') / 255\n",
    "\n",
    "    def _labels(path):\n",
    "        \"\"\"Return labels loaded locally.\"\"\"\n",
    "        with gzip.open(path) as f:\n",
    "            # First 8 bytes are magic_number, n_labels\n",
    "            integer_labels = np.frombuffer(f.read(), 'B', offset=8)\n",
    "\n",
    "        def _onehot(integer_labels):\n",
    "            \"\"\"Return matrix whose rows are onehot encodings of integers.\"\"\"\n",
    "            n_rows = len(integer_labels)\n",
    "            n_cols = integer_labels.max() + 1\n",
    "            onehot = np.zeros((n_rows, n_cols), dtype='uint8')\n",
    "            onehot[np.arange(n_rows), integer_labels] = 1\n",
    "            return onehot\n",
    "\n",
    "        return _onehot(integer_labels)\n",
    "\n",
    "    train_images = _images(os.path.join(path, files[0]))\n",
    "    train_labels = _labels(os.path.join(path, files[1]))\n",
    "    test_images = _images(os.path.join(path, files[2]))\n",
    "    test_labels = _labels(os.path.join(path, files[3]))\n",
    "\n",
    "    return train_images, train_labels, test_images, test_labels"
   ]
  },
  {
   "cell_type": "code",
   "execution_count": 3,
   "metadata": {
    "collapsed": true
   },
   "outputs": [],
   "source": [
    "train_images, train_labels, test_images, test_labels = mnist(\"../datasets/MNIST\")"
   ]
  },
  {
   "cell_type": "markdown",
   "metadata": {},
   "source": [
    "This is an example of the structure of the outputs, a vector $y$ with a 1 matching the position of the sample in the training set that match that class and 0 otherwise."
   ]
  },
  {
   "cell_type": "code",
   "execution_count": 4,
   "metadata": {},
   "outputs": [
    {
     "data": {
      "text/plain": [
       "array([0, 0, 0, 0, 0, 0, 0, 1, 0, 0], dtype=uint8)"
      ]
     },
     "execution_count": 4,
     "metadata": {},
     "output_type": "execute_result"
    }
   ],
   "source": [
    "test_labels[0]"
   ]
  },
  {
   "cell_type": "markdown",
   "metadata": {},
   "source": [
    "The following function transforms the previous vector, also called one-hot vector, to the real digit."
   ]
  },
  {
   "cell_type": "code",
   "execution_count": 5,
   "metadata": {
    "collapsed": true
   },
   "outputs": [],
   "source": [
    "def from_one_hot_to_vector(labels):\n",
    "    return np.argmax(labels, axis=1)"
   ]
  },
  {
   "cell_type": "markdown",
   "metadata": {
    "collapsed": true
   },
   "source": [
    "After load the MNIST dataset, it's always a good idea to visualize the dataset and how it is composed. \n",
    "Each image is composed of 768 attributes, each one representing a pixel from a 28x28 image."
   ]
  },
  {
   "cell_type": "code",
   "execution_count": 6,
   "metadata": {
    "collapsed": true
   },
   "outputs": [],
   "source": [
    "def plot_number_image(image, label):\n",
    "        r\"\"\"Plots the handwritten image in a matplotlib figure\n",
    "\n",
    "        Args:\n",
    "            image: NumPy array with the values of an image from the MNIST dataset.\n",
    "                    It should be 28x28 pixels each one.\n",
    "                    \n",
    "            label: Scalar with the label (a number, not a one hot vector) of the image\n",
    "        \"\"\"\n",
    "        # Make those columns into a array of 8-bits pixels\n",
    "        # This array will be of 1D with length 784\n",
    "        # The pixel intensity values are float from 0 to 1\n",
    "        # Reshape the array into 28 x 28 array (2-dimensional array)\n",
    "        pixels = image.reshape((28, 28))\n",
    "\n",
    "        # Plot\n",
    "        plt.title('Label is {}'.format(label))\n",
    "        plt.imshow(pixels, cmap='gray')\n",
    "        plt.show()"
   ]
  },
  {
   "cell_type": "code",
   "execution_count": 7,
   "metadata": {},
   "outputs": [
    {
     "data": {
      "image/png": "[encoded data removed]",
      "text/plain": [
       "<matplotlib.figure.Figure at 0x7f85b6ec3c50>"
      ]
     },
     "metadata": {},
     "output_type": "display_data"
    },
    {
     "data": {
      "image/png": "[encoded data removed]",
      "text/plain": [
       "<matplotlib.figure.Figure at 0x7f85b6ec3c88>"
      ]
     },
     "metadata": {},
     "output_type": "display_data"
    }
   ],
   "source": [
    "plot_number_image(train_images[0], train_labels[0])\n",
    "plot_number_image(train_images[1], train_labels[1])"
   ]
  },
  {
   "cell_type": "markdown",
   "metadata": {},
   "source": [
    "Above we see the image, which is represented by an input vector of 784 dimensions (28x28 pixels, each pixel a value) with range 0-1."
   ]
  },
  {
   "cell_type": "code",
   "execution_count": 8,
   "metadata": {},
   "outputs": [
    {
     "data": {
      "text/plain": [
       "array([0.        , 0.        , 0.        , 0.        , 0.        ,\n",
       "       0.        , 0.        , 0.        , 0.        , 0.        ,\n",
       "       0.        , 0.        , 0.        , 0.        , 0.        ,\n",
       "       0.        , 0.        , 0.        , 0.        , 0.        ,\n",
       "       0.        , 0.        , 0.        , 0.        , 0.        ,\n",
       "       0.        , 0.        , 0.        , 0.        , 0.        ,\n",
       "       0.        , 0.        , 0.        , 0.        , 0.        ,\n",
       "       0.        , 0.        , 0.        , 0.        , 0.        ,\n",
       "       0.        , 0.        , 0.        , 0.        , 0.        ,\n",
       "       0.        , 0.        , 0.        , 0.        , 0.        ,\n",
       "       0.        , 0.        , 0.        , 0.        , 0.        ,\n",
       "       0.        , 0.        , 0.        , 0.        , 0.        ,\n",
       "       0.        , 0.        , 0.        , 0.        , 0.        ,\n",
       "       0.        , 0.        , 0.        , 0.        , 0.        ,\n",
       "       0.        , 0.        , 0.        , 0.        , 0.        ,\n",
       "       0.        , 0.        , 0.        , 0.        , 0.        ,\n",
       "       0.        , 0.        , 0.        , 0.        , 0.        ,\n",
       "       0.        , 0.        , 0.        , 0.        , 0.        ,\n",
       "       0.        , 0.        , 0.        , 0.        , 0.        ,\n",
       "       0.        , 0.        , 0.        , 0.        , 0.        ,\n",
       "       0.        , 0.        , 0.        , 0.        , 0.        ,\n",
       "       0.        , 0.        , 0.        , 0.        , 0.        ,\n",
       "       0.        , 0.        , 0.        , 0.        , 0.        ,\n",
       "       0.        , 0.        , 0.        , 0.        , 0.        ,\n",
       "       0.        , 0.        , 0.        , 0.        , 0.        ,\n",
       "       0.        , 0.        , 0.        , 0.        , 0.        ,\n",
       "       0.        , 0.        , 0.        , 0.        , 0.        ,\n",
       "       0.        , 0.        , 0.        , 0.        , 0.        ,\n",
       "       0.        , 0.        , 0.        , 0.        , 0.        ,\n",
       "       0.        , 0.        , 0.        , 0.        , 0.        ,\n",
       "       0.        , 0.        , 0.01176471, 0.07058824, 0.07058824,\n",
       "       0.07058824, 0.49411765, 0.53333336, 0.6862745 , 0.10196079,\n",
       "       0.6509804 , 1.        , 0.96862745, 0.49803922, 0.        ,\n",
       "       0.        , 0.        , 0.        , 0.        , 0.        ,\n",
       "       0.        , 0.        , 0.        , 0.        , 0.        ,\n",
       "       0.        , 0.11764706, 0.14117648, 0.36862746, 0.6039216 ,\n",
       "       0.6666667 , 0.99215686, 0.99215686, 0.99215686, 0.99215686,\n",
       "       0.99215686, 0.88235295, 0.6745098 , 0.99215686, 0.9490196 ,\n",
       "       0.7647059 , 0.2509804 , 0.        , 0.        , 0.        ,\n",
       "       0.        , 0.        , 0.        , 0.        , 0.        ,\n",
       "       0.        , 0.        , 0.        , 0.19215687, 0.93333334,\n",
       "       0.99215686, 0.99215686, 0.99215686, 0.99215686, 0.99215686,\n",
       "       0.99215686, 0.99215686, 0.99215686, 0.9843137 , 0.3647059 ,\n",
       "       0.32156864, 0.32156864, 0.21960784, 0.15294118, 0.        ,\n",
       "       0.        , 0.        , 0.        , 0.        , 0.        ,\n",
       "       0.        , 0.        , 0.        , 0.        , 0.        ,\n",
       "       0.        , 0.07058824, 0.85882354, 0.99215686, 0.99215686,\n",
       "       0.99215686, 0.99215686, 0.99215686, 0.7764706 , 0.7137255 ,\n",
       "       0.96862745, 0.94509804, 0.        , 0.        , 0.        ,\n",
       "       0.        , 0.        , 0.        , 0.        , 0.        ,\n",
       "       0.        , 0.        , 0.        , 0.        , 0.        ,\n",
       "       0.        , 0.        , 0.        , 0.        , 0.        ,\n",
       "       0.3137255 , 0.6117647 , 0.41960785, 0.99215686, 0.99215686,\n",
       "       0.8039216 , 0.04313726, 0.        , 0.16862746, 0.6039216 ,\n",
       "       0.        , 0.        , 0.        , 0.        , 0.        ,\n",
       "       0.        , 0.        , 0.        , 0.        , 0.        ,\n",
       "       0.        , 0.        , 0.        , 0.        , 0.        ,\n",
       "       0.        , 0.        , 0.        , 0.        , 0.05490196,\n",
       "       0.00392157, 0.6039216 , 0.99215686, 0.3529412 , 0.        ,\n",
       "       0.        , 0.        , 0.        , 0.        , 0.        ,\n",
       "       0.        , 0.        , 0.        , 0.        , 0.        ,\n",
       "       0.        , 0.        , 0.        , 0.        , 0.        ,\n",
       "       0.        , 0.        , 0.        , 0.        , 0.        ,\n",
       "       0.        , 0.        , 0.        , 0.        , 0.54509807,\n",
       "       0.99215686, 0.74509805, 0.00784314, 0.        , 0.        ,\n",
       "       0.        , 0.        , 0.        , 0.        , 0.        ,\n",
       "       0.        , 0.        , 0.        , 0.        , 0.        ,\n",
       "       0.        , 0.        , 0.        , 0.        , 0.        ,\n",
       "       0.        , 0.        , 0.        , 0.        , 0.        ,\n",
       "       0.        , 0.        , 0.04313726, 0.74509805, 0.99215686,\n",
       "       0.27450982, 0.        , 0.        , 0.        , 0.        ,\n",
       "       0.        , 0.        , 0.        , 0.        , 0.        ,\n",
       "       0.        , 0.        , 0.        , 0.        , 0.        ,\n",
       "       0.        , 0.        , 0.        , 0.        , 0.        ,\n",
       "       0.        , 0.        , 0.        , 0.        , 0.        ,\n",
       "       0.        , 0.13725491, 0.94509804, 0.88235295, 0.627451  ,\n",
       "       0.42352942, 0.00392157, 0.        , 0.        , 0.        ,\n",
       "       0.        , 0.        , 0.        , 0.        , 0.        ,\n",
       "       0.        , 0.        , 0.        , 0.        , 0.        ,\n",
       "       0.        , 0.        , 0.        , 0.        , 0.        ,\n",
       "       0.        , 0.        , 0.        , 0.        , 0.        ,\n",
       "       0.31764707, 0.9411765 , 0.99215686, 0.99215686, 0.46666667,\n",
       "       0.09803922, 0.        , 0.        , 0.        , 0.        ,\n",
       "       0.        , 0.        , 0.        , 0.        , 0.        ,\n",
       "       0.        , 0.        , 0.        , 0.        , 0.        ,\n",
       "       0.        , 0.        , 0.        , 0.        , 0.        ,\n",
       "       0.        , 0.        , 0.        , 0.        , 0.1764706 ,\n",
       "       0.7294118 , 0.99215686, 0.99215686, 0.5882353 , 0.10588235,\n",
       "       0.        , 0.        , 0.        , 0.        , 0.        ,\n",
       "       0.        , 0.        , 0.        , 0.        , 0.        ,\n",
       "       0.        , 0.        , 0.        , 0.        , 0.        ,\n",
       "       0.        , 0.        , 0.        , 0.        , 0.        ,\n",
       "       0.        , 0.        , 0.        , 0.0627451 , 0.3647059 ,\n",
       "       0.9882353 , 0.99215686, 0.73333335, 0.        , 0.        ,\n",
       "       0.        , 0.        , 0.        , 0.        , 0.        ,\n",
       "       0.        , 0.        , 0.        , 0.        , 0.        ,\n",
       "       0.        , 0.        , 0.        , 0.        , 0.        ,\n",
       "       0.        , 0.        , 0.        , 0.        , 0.        ,\n",
       "       0.        , 0.        , 0.        , 0.9764706 , 0.99215686,\n",
       "       0.9764706 , 0.2509804 , 0.        , 0.        , 0.        ,\n",
       "       0.        , 0.        , 0.        , 0.        , 0.        ,\n",
       "       0.        , 0.        , 0.        , 0.        , 0.        ,\n",
       "       0.        , 0.        , 0.        , 0.        , 0.        ,\n",
       "       0.        , 0.        , 0.        , 0.18039216, 0.50980395,\n",
       "       0.7176471 , 0.99215686, 0.99215686, 0.8117647 , 0.00784314,\n",
       "       0.        , 0.        , 0.        , 0.        , 0.        ,\n",
       "       0.        , 0.        , 0.        , 0.        , 0.        ,\n",
       "       0.        , 0.        , 0.        , 0.        , 0.        ,\n",
       "       0.        , 0.        , 0.        , 0.        , 0.15294118,\n",
       "       0.5803922 , 0.8980392 , 0.99215686, 0.99215686, 0.99215686,\n",
       "       0.98039216, 0.7137255 , 0.        , 0.        , 0.        ,\n",
       "       0.        , 0.        , 0.        , 0.        , 0.        ,\n",
       "       0.        , 0.        , 0.        , 0.        , 0.        ,\n",
       "       0.        , 0.        , 0.        , 0.        , 0.        ,\n",
       "       0.09411765, 0.44705883, 0.8666667 , 0.99215686, 0.99215686,\n",
       "       0.99215686, 0.99215686, 0.7882353 , 0.30588236, 0.        ,\n",
       "       0.        , 0.        , 0.        , 0.        , 0.        ,\n",
       "       0.        , 0.        , 0.        , 0.        , 0.        ,\n",
       "       0.        , 0.        , 0.        , 0.        , 0.        ,\n",
       "       0.        , 0.09019608, 0.25882354, 0.8352941 , 0.99215686,\n",
       "       0.99215686, 0.99215686, 0.99215686, 0.7764706 , 0.31764707,\n",
       "       0.00784314, 0.        , 0.        , 0.        , 0.        ,\n",
       "       0.        , 0.        , 0.        , 0.        , 0.        ,\n",
       "       0.        , 0.        , 0.        , 0.        , 0.        ,\n",
       "       0.        , 0.        , 0.07058824, 0.67058825, 0.85882354,\n",
       "       0.99215686, 0.99215686, 0.99215686, 0.99215686, 0.7647059 ,\n",
       "       0.3137255 , 0.03529412, 0.        , 0.        , 0.        ,\n",
       "       0.        , 0.        , 0.        , 0.        , 0.        ,\n",
       "       0.        , 0.        , 0.        , 0.        , 0.        ,\n",
       "       0.        , 0.        , 0.        , 0.21568628, 0.6745098 ,\n",
       "       0.8862745 , 0.99215686, 0.99215686, 0.99215686, 0.99215686,\n",
       "       0.95686275, 0.52156866, 0.04313726, 0.        , 0.        ,\n",
       "       0.        , 0.        , 0.        , 0.        , 0.        ,\n",
       "       0.        , 0.        , 0.        , 0.        , 0.        ,\n",
       "       0.        , 0.        , 0.        , 0.        , 0.        ,\n",
       "       0.        , 0.53333336, 0.99215686, 0.99215686, 0.99215686,\n",
       "       0.83137256, 0.5294118 , 0.5176471 , 0.0627451 , 0.        ,\n",
       "       0.        , 0.        , 0.        , 0.        , 0.        ,\n",
       "       0.        , 0.        , 0.        , 0.        , 0.        ,\n",
       "       0.        , 0.        , 0.        , 0.        , 0.        ,\n",
       "       0.        , 0.        , 0.        , 0.        , 0.        ,\n",
       "       0.        , 0.        , 0.        , 0.        , 0.        ,\n",
       "       0.        , 0.        , 0.        , 0.        , 0.        ,\n",
       "       0.        , 0.        , 0.        , 0.        , 0.        ,\n",
       "       0.        , 0.        , 0.        , 0.        , 0.        ,\n",
       "       0.        , 0.        , 0.        , 0.        , 0.        ,\n",
       "       0.        , 0.        , 0.        , 0.        , 0.        ,\n",
       "       0.        , 0.        , 0.        , 0.        , 0.        ,\n",
       "       0.        , 0.        , 0.        , 0.        , 0.        ,\n",
       "       0.        , 0.        , 0.        , 0.        , 0.        ,\n",
       "       0.        , 0.        , 0.        , 0.        , 0.        ,\n",
       "       0.        , 0.        , 0.        , 0.        , 0.        ,\n",
       "       0.        , 0.        , 0.        , 0.        , 0.        ,\n",
       "       0.        , 0.        , 0.        , 0.        , 0.        ,\n",
       "       0.        , 0.        , 0.        , 0.        , 0.        ,\n",
       "       0.        , 0.        , 0.        , 0.        , 0.        ,\n",
       "       0.        , 0.        , 0.        , 0.        ], dtype=float32)"
      ]
     },
     "execution_count": 8,
     "metadata": {},
     "output_type": "execute_result"
    }
   ],
   "source": [
    "train_images[0]"
   ]
  },
  {
   "cell_type": "markdown",
   "metadata": {},
   "source": [
    "### 2. MultiClass Logistic Regresssion with Scikit-learn \n",
    "In order to get a general idea of the result of MultiClass Logistic Regression, learn how to use a powerful library and later compare it with our algorithm, we are going first to do it with the scikit-learn implementation.\n",
    "\n",
    "It's very easy to use and with only 2 lines, we can have a functional model already."
   ]
  },
  {
   "cell_type": "code",
   "execution_count": 9,
   "metadata": {},
   "outputs": [
    {
     "name": "stdout",
     "output_type": "stream",
     "text": [
      "0.9263\n",
      "CPU times: user 28.4 s, sys: 245 ms, total: 28.7 s\n",
      "Wall time: 14.7 s\n"
     ]
    }
   ],
   "source": [
    "%%time\n",
    "from sklearn import linear_model\n",
    "from sklearn.metrics import accuracy_score\n",
    "\n",
    "logreg = linear_model.LogisticRegression(multi_class='multinomial', solver='lbfgs')\n",
    "logreg.fit(train_images, from_one_hot_to_vector(train_labels)) \n",
    "\n",
    "Y_pred = logreg.predict(test_images)\n",
    "acc = accuracy_score(from_one_hot_to_vector(test_labels), Y_pred)\n",
    "print(acc)"
   ]
  },
  {
   "cell_type": "markdown",
   "metadata": {},
   "source": [
    "In the results, there are two important points. First, the accuracy that it's quite high with $92.63$ in the test dataset. In addition, we can see that with the increase in the model complexity (from linear regression to logistic regression multiclass), the training time increases too, now it lasts 30 seconds to get the model trained.\n",
    "\n",
    "### 3. MultiClass Logistic Regression implementation explained\n",
    "As stated before, this is a generalization of the Binary Logistic Regression by creating as many \"mini-models\" as classes and choose the class with the most probability. For that reason, most of the functions are the same in the Multiclass Logistic Regression and in the Binary Logistic Regression. First of all, the sigmoid function: $\\sigma(z) = \\frac{1}{1+e^{-z}}$"
   ]
  },
  {
   "cell_type": "code",
   "execution_count": 10,
   "metadata": {
    "collapsed": true
   },
   "outputs": [],
   "source": [
    "def sigmoid(z):\n",
    "    return 1/(1+np.exp(-z))"
   ]
  },
  {
   "cell_type": "markdown",
   "metadata": {},
   "source": [
    "But the sigmoid function accepts one parameter, $z$ which is the ouput of the linear transformation of the inputs, so finally, the whole function for Logistic Regression is: $\\frac{1}{1+e^{-\\sum_{i=1}^{n}x_i \\theta_i}}$"
   ]
  },
  {
   "cell_type": "code",
   "execution_count": 11,
   "metadata": {
    "collapsed": true
   },
   "outputs": [],
   "source": [
    "def logisticRegression(X, theta):\n",
    "    return sigmoid(X@theta)"
   ]
  },
  {
   "cell_type": "markdown",
   "metadata": {},
   "source": [
    "Once that the model is defined, we have to find the cost function of the model, to know how well the model performs. To increase the performance, we will try to minimize the cost function by Gradient Descent. As before, we will use the same cost function: $\\sum_{i=1} ylog(\\hat{y})+(1-y)log(1-\\hat{y}) +\\frac{\\lambda}{2m}\\sum_{j=1}^{n}\\theta_j^2$"
   ]
  },
  {
   "cell_type": "code",
   "execution_count": 12,
   "metadata": {
    "collapsed": true
   },
   "outputs": [],
   "source": [
    "def costFunction(X, Y, theta, lam):\n",
    "    z = X@theta\n",
    "    h = sigmoid(z)\n",
    "    return (1/X.shape[0])*(-Y.T@np.log(h)-(1-Y).T@np.log(1-h)+(lam/2)*theta.T@theta)"
   ]
  },
  {
   "cell_type": "markdown",
   "metadata": {},
   "source": [
    "In order to minimize the cost function, we will use Gradient Descent. ![Gradient Descent Pseudocode](https://cdn-images-1.medium.com/max/1040/1*oJKalifbWzwuo3fRjWJjTg.png) From the pseudocode, we see that the derivative of the cost function with respect to the $\\theta$ parameter. This has been calculated in the [Binary Logistic Regression](3_BinaryLogisticRegression.ipynb) and is $gradient = \\frac{1}{m}\\sum_{i=1}^m x^i (\\hat{y}_i - y_i) \\frac{\\lambda}{m}\\theta$"
   ]
  },
  {
   "cell_type": "code",
   "execution_count": 13,
   "metadata": {
    "collapsed": true
   },
   "outputs": [],
   "source": [
    "def gradient(X, y, theta, lr, lam):\n",
    "    z = np.dot(X, theta)\n",
    "    h = sigmoid(z)\n",
    "    new_theta = theta\n",
    "    new_theta[0] = 0\n",
    "    gradient = (np.dot(X.T, (h - y))+lam*new_theta) / y.size\n",
    "    return theta - lr * gradient"
   ]
  },
  {
   "cell_type": "markdown",
   "metadata": {},
   "source": [
    "That's all the function needed to train the model so it can predict which number is from the image. Now, another simple function more to calculate the accuracy of the model, it takes the input, the $\\theta$ parameter and the true label."
   ]
  },
  {
   "cell_type": "code",
   "execution_count": 14,
   "metadata": {
    "collapsed": true
   },
   "outputs": [],
   "source": [
    "def accuracy(X, Y, theta):\n",
    "    pred = logisticRegression(X, theta).argmax(axis=1)\n",
    "    boolarr = pred == Y\n",
    "    return np.sum(boolarr) / boolarr.size    "
   ]
  },
  {
   "cell_type": "markdown",
   "metadata": {},
   "source": [
    "Until this point, everythin is similar to the Binary Logistic Regression. Now, what it changes is the parameters that have to be trained. Instead of a column vector, with as many attributes of the parameters as the input, we will expand this to create a matrix $m$x$n$ with $m$ being the number of input's attributes and $n$ being the number of output classes, creating the $n$ mini-models. "
   ]
  },
  {
   "cell_type": "code",
   "execution_count": 16,
   "metadata": {},
   "outputs": [
    {
     "name": "stdout",
     "output_type": "stream",
     "text": [
      "m = 784\n",
      "n = 10\n"
     ]
    }
   ],
   "source": [
    "print(\"m = {}\".format(train_images.shape[1]))\n",
    "print(\"n = {}\".format(train_labels.shape[1]))"
   ]
  },
  {
   "cell_type": "markdown",
   "metadata": {},
   "source": [
    "In all the previous notebooks, we haven't talked at all about the learning rate ($lr$) and which impact does it have in the traing. For this reason, here we are going to create three instances of our model and each one will train with a different learing rate."
   ]
  },
  {
   "cell_type": "code",
   "execution_count": 19,
   "metadata": {
    "collapsed": true
   },
   "outputs": [],
   "source": [
    "theta1 = np.zeros((train_images.shape[1], train_labels.shape[1])) #the three instances\n",
    "theta2 = theta1\n",
    "theta3 = theta1\n",
    "lr = [0.1, 0.03, 0.01] #the three different learning rates\n",
    "lam = 1 #the lambda (regularization parameter) will be constant among the instances"
   ]
  },
  {
   "cell_type": "markdown",
   "metadata": {},
   "source": [
    "For a later comparison, we will save the cost of each instance for every iteration."
   ]
  },
  {
   "cell_type": "code",
   "execution_count": 20,
   "metadata": {
    "collapsed": true
   },
   "outputs": [],
   "source": [
    "costAccumulated1 = []\n",
    "costAccumulated2 = []\n",
    "costAccumulated3 = []"
   ]
  },
  {
   "cell_type": "code",
   "execution_count": 21,
   "metadata": {},
   "outputs": [
    {
     "name": "stdout",
     "output_type": "stream",
     "text": [
      "CPU times: user 4min 52s, sys: 1min 33s, total: 6min 26s\n",
      "Wall time: 3min 13s\n"
     ]
    }
   ],
   "source": [
    "%%time\n",
    "for i in range(100):\n",
    "    theta1 = gradient(train_images, train_labels, theta1, lr[0], lam)\n",
    "    theta2 = gradient(train_images, train_labels, theta2, lr[1], lam)\n",
    "    theta3 = gradient(train_images, train_labels, theta3, lr[2], lam)\n",
    "    costAccumulated1.append(costFunction(train_images, train_labels, theta1, lam).mean())\n",
    "    costAccumulated2.append(costFunction(train_images, train_labels, theta2, lam).mean())\n",
    "    costAccumulated3.append(costFunction(train_images, train_labels, theta3, lam).mean())"
   ]
  },
  {
   "cell_type": "markdown",
   "metadata": {},
   "source": [
    "There are several interesting things here: \n",
    "\n",
    "First of all is the amount of time it has taken to train in contrast to the Binary Logistic Regression or the Linear Regression. As the complexity of the model increases, the time for taking increases too and this is due to the growth of computations it has to perform. Remember that this model takes the output of the Linear Regression and squashes it into 0-1 range, adding one more \"layer\" of complexity and the sames with the gradient.\n",
    "\n",
    "The other interesting thing is the .mean() in the costFunction. The reason behind this is that when we calculate the cost, it calculates it for every \"mini-model\" so what it returns is not a single number but a vector with the cost for each \"mini-model\" that represents each \"digit\" of the dataset. There are different ways of converting the vector into a single number like take the sum or the mean, as we have done here.\n",
    "\n",
    "Finally, let's plot the cost function for every instance of the model and see what happens."
   ]
  },
  {
   "cell_type": "code",
   "execution_count": 25,
   "metadata": {},
   "outputs": [
    {
     "data": {
      "text/plain": [
       "<matplotlib.legend.Legend at 0x7f8592af7c18>"
      ]
     },
     "execution_count": 25,
     "metadata": {},
     "output_type": "execute_result"
    },
    {
     "data": {
      "image/png": "[encoded data removed]",
      "text/plain": [
       "<matplotlib.figure.Figure at 0x7f8592bd7588>"
      ]
     },
     "metadata": {},
     "output_type": "display_data"
    }
   ],
   "source": [
    "x = [i for i in range(1, len(costAccumulated1)+1)]\n",
    "plt.plot(x, costAccumulated1, color='green', label=\"lr 0.1\")\n",
    "plt.plot(x, costAccumulated2, color='red', label=\"lr 0.03\")\n",
    "plt.plot(x, costAccumulated3, color='blue', label=\"lr 0.01\")\n",
    "plt.legend()"
   ]
  },
  {
   "cell_type": "markdown",
   "metadata": {},
   "source": [
    "As we can see, the learning rate does affect the cost function. In this example, the greater the learing rate, the faster the deacrease of the cost function. This means that the model has the capacity to learn faster and a smaller learning rate slows the training. It's not always the same and in other situation, having the learing rate set to big could make the gradient explode and consequently the model would never converge, but this is another topic.\n",
    "![Exploding Gradients](https://qph.fs.quoracdn.net/main-qimg-ed4a3867ca90b95b33b95f1b89d8335c-c)\n",
    "\n",
    "Reference:\n",
    "1. [Deep Learning Book by Ian Goodfellow and Yoshua Bengio and Aaron Courville](https://www.deeplearningbook.org/)\n",
    "2. [Coursera - Machine Learning](https://www.coursera.org/learn/machine-learning)\n",
    "3. https://en.wikipedia.org/wiki/Multiclass_classification\n",
    "4. https://www.codeproject.com/Articles/821347/MultiClass-Logistic-Classifier-in-Python\n",
    "5. https://www.pugetsystems.com/labs/hpc/Machine-Learning-and-Data-Science-Multinomial-Multiclass-Logistic-Regression-1007/\n",
    "6. https://houxianxu.github.io/2015/04/23/logistic-softmax-regression/\n"
   ]
  }
 ],
 "metadata": {
  "kernelspec": {
   "display_name": "Python 3",
   "language": "python",
   "name": "python3"
  },
  "language_info": {
   "codemirror_mode": {
    "name": "ipython",
    "version": 3
   },
   "file_extension": ".py",
   "mimetype": "text/x-python",
   "name": "python",
   "nbconvert_exporter": "python",
   "pygments_lexer": "ipython3",
   "version": "3.6.3"
  }
 },
 "nbformat": 4,
 "nbformat_minor": 2
}
