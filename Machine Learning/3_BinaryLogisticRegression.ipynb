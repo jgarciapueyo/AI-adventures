{
 "cells": [
  {
   "cell_type": "markdown",
   "metadata": {},
   "source": [
    "# Binary Logistic Regression\n",
    "\n",
    "### What it is?\n",
    "Binary Logistic Regression (strange name given that) is a supervised classification Machine Learning algorithm. It is used to predict discrete outputs, in contrast to Linear Regression that can predict continuous outputs. The term binary refers to the fact that it can differentiate between two discrete labels, which are usually 0 and 1.\n",
    "\n",
    "It can be seen as the next step after linear regression since this method consists of squashing the output of the linear regression with the use of the logistic sigmoid function, which is a probabilistic function whose domain goes from 0 to 1. ![Logistic Sigmoid Function](https://upload.wikimedia.org/wikipedia/commons/thumb/8/88/Logistic-curve.svg/480px-Logistic-curve.svg.png)\n",
    "\n",
    "The output of the logistic function is a continue value that indicates the probability of the input $x \\in \\mathbb{R}^n$ to be in the class 1, $p(y = 1 \\mid x)$, and because the probability of both classes must add up to 1, we only have to specify the probability of one class.\n",
    "\n",
    "###  General explanation of notebook\n",
    "The structure of the notebook is getting all the data and process it to standarize it, in addition with a simple visualization. Later, we will use the scikit-learn library implementation of Logistic Regression. Finally, we will go through the mathematical explanation and implement it from scratch to compare it.\n",
    "\n",
    "### 1.  Getting the data\n",
    "irst of all, we have to import all of the dependencies that we will use to retrieve the data, clean it and also visualize it."
   ]
  },
  {
   "cell_type": "code",
   "execution_count": 1,
   "metadata": {
    "collapsed": true
   },
   "outputs": [],
   "source": [
    "import pandas as pd\n",
    "import numpy as np\n",
    "import matplotlib.pyplot as plt"
   ]
  },
  {
   "cell_type": "code",
   "execution_count": 2,
   "metadata": {
    "scrolled": false
   },
   "outputs": [
    {
     "name": "stdout",
     "output_type": "stream",
     "text": [
      "Non estandarized data\n"
     ]
    },
    {
     "data": {
      "text/html": [
       "<div>\n",
       "<style>\n",
       "    .dataframe thead tr:only-child th {\n",
       "        text-align: right;\n",
       "    }\n",
       "\n",
       "    .dataframe thead th {\n",
       "        text-align: left;\n",
       "    }\n",
       "\n",
       "    .dataframe tbody tr th {\n",
       "        vertical-align: top;\n",
       "    }\n",
       "</style>\n",
       "<table border=\"1\" class=\"dataframe\">\n",
       "  <thead>\n",
       "    <tr style=\"text-align: right;\">\n",
       "      <th></th>\n",
       "      <th>x1</th>\n",
       "      <th>x2</th>\n",
       "      <th>y</th>\n",
       "      <th>X1plusX2</th>\n",
       "    </tr>\n",
       "  </thead>\n",
       "  <tbody>\n",
       "    <tr>\n",
       "      <th>0</th>\n",
       "      <td>89.946963</td>\n",
       "      <td>72.091781</td>\n",
       "      <td>1</td>\n",
       "      <td>162.038744</td>\n",
       "    </tr>\n",
       "    <tr>\n",
       "      <th>1</th>\n",
       "      <td>77.111425</td>\n",
       "      <td>75.206589</td>\n",
       "      <td>1</td>\n",
       "      <td>152.318014</td>\n",
       "    </tr>\n",
       "    <tr>\n",
       "      <th>2</th>\n",
       "      <td>71.854053</td>\n",
       "      <td>80.549965</td>\n",
       "      <td>1</td>\n",
       "      <td>152.404018</td>\n",
       "    </tr>\n",
       "    <tr>\n",
       "      <th>3</th>\n",
       "      <td>67.182350</td>\n",
       "      <td>97.026782</td>\n",
       "      <td>1</td>\n",
       "      <td>164.209131</td>\n",
       "    </tr>\n",
       "    <tr>\n",
       "      <th>4</th>\n",
       "      <td>71.087755</td>\n",
       "      <td>71.098405</td>\n",
       "      <td>1</td>\n",
       "      <td>142.186160</td>\n",
       "    </tr>\n",
       "  </tbody>\n",
       "</table>\n",
       "</div>"
      ],
      "text/plain": [
       "          x1         x2  y    X1plusX2\n",
       "0  89.946963  72.091781  1  162.038744\n",
       "1  77.111425  75.206589  1  152.318014\n",
       "2  71.854053  80.549965  1  152.404018\n",
       "3  67.182350  97.026782  1  164.209131\n",
       "4  71.087755  71.098405  1  142.186160"
      ]
     },
     "execution_count": 2,
     "metadata": {},
     "output_type": "execute_result"
    }
   ],
   "source": [
    "url = \"../datasets/DummyLogistic/Data-L-Reg-Gradient-Descent.csv\"\n",
    "\n",
    "# load dataset into Pandas DataFrame\n",
    "df = pd.read_csv(url, na_values= ['?'])\n",
    "features = df.columns\n",
    "\n",
    "print(\"Non estandarized data\")\n",
    "df.head()"
   ]
  },
  {
   "cell_type": "markdown",
   "metadata": {},
   "source": [
    "We will use only the first two features, x1 and x2, as the attributes of $x$ and $y$ as the target ouput."
   ]
  },
  {
   "cell_type": "code",
   "execution_count": 3,
   "metadata": {
    "collapsed": true
   },
   "outputs": [],
   "source": [
    "X = df.as_matrix()[:, 0:2]\n",
    "Y = df.as_matrix()[:, 2]"
   ]
  },
  {
   "cell_type": "markdown",
   "metadata": {},
   "source": [
    "For gaining a better understanding of the data, and given that it is only 2-D, we can plot it as two different groups depending on the class."
   ]
  },
  {
   "cell_type": "code",
   "execution_count": 4,
   "metadata": {},
   "outputs": [
    {
     "data": {
      "text/plain": [
       "<matplotlib.collections.PathCollection at 0x7fc7ae70c278>"
      ]
     },
     "execution_count": 4,
     "metadata": {},
     "output_type": "execute_result"
    },
    {
     "data": {
      "image/png": "[encoded data removed]",
      "text/plain": [
       "<matplotlib.figure.Figure at 0x7fc7b61db4a8>"
      ]
     },
     "metadata": {},
     "output_type": "display_data"
    }
   ],
   "source": [
    "%matplotlib inline\n",
    "plt.scatter(df.loc[df['y'] == 0]['x1'], df.loc[df['y'] == 0]['x2'], color='b', label='0')\n",
    "plt.scatter(df.loc[df['y'] == 1]['x1'], df.loc[df['y'] == 1]['x2'], color='r', label='1')"
   ]
  },
  {
   "cell_type": "markdown",
   "metadata": {},
   "source": [
    "Although it's not extremely clear the separation, it can be estimated. Now, we're going to standarize the attributes to improve the accuracy of the models. After that, we can plot it again to see how it has changed."
   ]
  },
  {
   "cell_type": "code",
   "execution_count": 5,
   "metadata": {
    "collapsed": true
   },
   "outputs": [],
   "source": [
    "from sklearn.preprocessing import StandardScaler\n",
    "scaler = StandardScaler()\n",
    "scaler.fit(X)\n",
    "X = scaler.transform(X)"
   ]
  },
  {
   "cell_type": "code",
   "execution_count": 6,
   "metadata": {},
   "outputs": [
    {
     "data": {
      "text/plain": [
       "<matplotlib.collections.PathCollection at 0x7fc7a5995128>"
      ]
     },
     "execution_count": 6,
     "metadata": {},
     "output_type": "execute_result"
    },
    {
     "data": {
      "image/png": "[encoded data removed]",
      "text/plain": [
       "<matplotlib.figure.Figure at 0x7fc7d578d2b0>"
      ]
     },
     "metadata": {},
     "output_type": "display_data"
    }
   ],
   "source": [
    "plt.scatter(X[Y == 0, 0], X[Y == 0, 1], color='b', label='0')\n",
    "plt.scatter(X[Y == 1, 0], X[Y == 1, 1], color='r', label='1')"
   ]
  },
  {
   "cell_type": "markdown",
   "metadata": {},
   "source": [
    "The last step is to split the dataset into training and test (we we'll have to tweak a little bit the output so they are column vectors)."
   ]
  },
  {
   "cell_type": "code",
   "execution_count": 7,
   "metadata": {
    "collapsed": true
   },
   "outputs": [],
   "source": [
    "X_train = X[:350, :]\n",
    "Y_train = Y[:350].astype(int).reshape((350,1))\n",
    "X_test = X[350:, :]\n",
    "Y_test = Y[350:].astype(int).reshape((50,1))"
   ]
  },
  {
   "cell_type": "code",
   "execution_count": 8,
   "metadata": {},
   "outputs": [
    {
     "data": {
      "text/plain": [
       "((350, 2), (350, 1), (50, 2), (50, 1))"
      ]
     },
     "execution_count": 8,
     "metadata": {},
     "output_type": "execute_result"
    }
   ],
   "source": [
    "X_train.shape, Y_train.shape, X_test.shape, Y_test.shape"
   ]
  },
  {
   "cell_type": "markdown",
   "metadata": {},
   "source": [
    "### 2. Logistic Regression with Scikit-Learn\n",
    "Scikit-learn is a very powerful library for ML but it's also extremely easy to use. Here, with a few lines we are going to use the Logistic Regression model. We are also going to use the accuracy_score function to see how good is the model."
   ]
  },
  {
   "cell_type": "code",
   "execution_count": 9,
   "metadata": {},
   "outputs": [
    {
     "data": {
      "text/plain": [
       "0.78"
      ]
     },
     "execution_count": 9,
     "metadata": {},
     "output_type": "execute_result"
    }
   ],
   "source": [
    "from sklearn import linear_model\n",
    "from sklearn.metrics import accuracy_score\n",
    "\n",
    "logreg = linear_model.LogisticRegression()\n",
    "logreg.fit(X_train, Y_train.ravel()) #.ravel() it's not mandatory, but it prevents a warning because of the shape of \n",
    "                                    # the vector.\n",
    "\n",
    "Y_pred = logreg.predict(X_test)\n",
    "\n",
    "accuracy_score(Y_test.ravel(), Y_pred)"
   ]
  },
  {
   "cell_type": "markdown",
   "metadata": {},
   "source": [
    "As we can see, we don't even need to understand what it does, with just 3 lines we have used a Logistic Regression model that achieves a not low score accuracy of 78%. Even though it's quite good, maybe if we implement it ourselves understanding the theory behind, we can increase the accuracy.\n",
    "\n",
    "### 3. Logistic Regression implementation explained\n",
    "Although in the introduction we have seen an overview of the algorithm, here we're going to explain and implement it from scratch.\n",
    "\n",
    "First, we have to understand that Logistic Regression is a supervised classification algorithm. The supervised term means that the dataset is composed of the input (attributes), $x \\in \\mathbb{R}^n$, and the output (labels), $y \\in \\mathbb{R}$, and the objective is to implement an algorithm whose output prediction, $\\hat{y} \\in \\mathbb{R}$, is as similar as possible to the label.\n",
    "\n",
    "This problem can be solved from a probabilistic perspective in which the supervised algorithm is based on estimating the probability distribution $p(y \\mid x)$. We can do this by using the maximum likelihood estimation to find the best parameter $\\theta \\in \\mathbb{R}^n$ for a family of distributions $p(y \\mid x; \\theta)$. \n",
    "\n",
    "Since we are trying to classify between two classes, hence the binary term, the distribution must be over a binary value. For that reason the logistic sigmoid function was chosen because, as it's been said before, we can squash the output of the linear regression into the range (0,1) and interpret this as a probability. More exactly as the probability $p(y = 1 \\mid x)$, and because we only have two classes whose probabilities must add up to 1, the probabity of x being the class 0 is $p(y = 0 \\mid x) = 1 - p(y=1 \\mid x)$.\n",
    "\n",
    "The formula for the logistic softmax function is: $\\sigma(z) = \\frac{1}{1+e^{-z}}$, also known as sigmoid function."
   ]
  },
  {
   "cell_type": "code",
   "execution_count": 10,
   "metadata": {
    "collapsed": true
   },
   "outputs": [],
   "source": [
    "def sigmoid(z):\n",
    "    return 1/(1+np.exp(-z))"
   ]
  },
  {
   "cell_type": "markdown",
   "metadata": {},
   "source": [
    "But this is not all because we have to define what is the input to this function. As we have said before, it's the output of the linear regression, which in short is $z = \\theta^\\top x$ (a further explanation in [Linear Regression Tutorial](2_LinearRegression.ipynb)). In the end, our probability prediction will be: $h_\\theta(x) = \\sigma(z) = \\sigma(\\theta^\\top x)$"
   ]
  },
  {
   "cell_type": "code",
   "execution_count": 11,
   "metadata": {
    "collapsed": true
   },
   "outputs": [],
   "source": [
    "def logisticRegression(X, theta):\n",
    "    return sigmoid(X@theta)"
   ]
  },
  {
   "cell_type": "markdown",
   "metadata": {},
   "source": [
    "After computing the probability of $(y=1 \\mid x)$, the last step is to set a treshold which we'll use to obtain the class of $x$ from the probability. This is usually chosen to be $0.5$, but it can be changed. With this, the model prediction is complete and with the proper values of $\\theta$, we could predict the class $y$ of a given input $x$. \n",
    "\n",
    "Nevertheless, these values are unknown and to calculate them a process called training is required. For that, and following the probabilistic perspective, we must search for them by maximizing the log-likelihood, or minimizing the negative log-likelihood. This can be done by using the technique of Gradient Descent.\n",
    "\n",
    "But first, let's derive the cost function from the process of maximizing the log-likelihood and for that, we have to define the probabilistic distribution from which the data is sampled. Since there are only two classes, the [Bernouilli Distribution](https://en.wikipedia.org/wiki/Bernoulli_distribution) fits perfectly and is defined by $f(k; p) = \\begin{cases}p, & \\text{if k = 1}\\\\1-p, & \\text{if k = 0}\\end{cases}$ or $f(k; p) = p^k(1-p)^{1-k}$.\n",
    "\n",
    "Changing the name of the letters to our case, and knowing that our prediction $\\hat{y} = p(y = 1\\mid x)$, or probability is $p(y\\mid x) = \\hat{y}^y(1-\\hat{y})^{1-y}$. \n",
    "\n",
    "If we take the likelihood of this probability distribution: $\\mathcal{L}(y, \\hat{y}) = \\prod_{i=1}^n f(y, \\hat{y}) = \\prod_{i=1}^n \\hat{y}^y(1-\\hat{y})^{1-y}$. By taking the logarithm, we obtain the log-likelihood: $log \\mathcal{L} = log(\\prod_{i=1}^n \\hat{y}^y(1-\\hat{y})) = \\sum_{i=1}^n log(\\hat{y}^y)+log((1-\\hat{y})^1-y) = \\sum_{i=1} ylog(\\hat{y})+(1-y)log(1-\\hat{y})$.\n",
    "\n",
    "This is the log-likelihood formula, now is just a matter of adding a constant, $\\frac{1}{m}$ being $m$ the number of samples and adding a $-$ because of the negative log-likelihodd. Now, all that's left is implement it in a vectorized way and we have our cost function."
   ]
  },
  {
   "cell_type": "code",
   "execution_count": 12,
   "metadata": {
    "collapsed": true
   },
   "outputs": [],
   "source": [
    "def costFunction(X, Y, theta):\n",
    "    z = X@theta\n",
    "    h = sigmoid(z)\n",
    "    return (1/X.shape[0])*(-Y.T@np.log(h)-(1-Y).T@np.log(1-h))"
   ]
  },
  {
   "cell_type": "markdown",
   "metadata": {},
   "source": [
    "A little intuition behind this cost function:\n",
    "It can be broken into two different functions depending if the class is 1 or 0, $Cost Function = J(\\theta) =  \\begin{cases}-log(\\hat{y}), & \\text{if y = 1}\\\\-log(1-\\hat{y}), & \\text{if y = 0}\\end{cases}$. If we plot this two functions, we see that if the class is 1 and the predicted class (probability) is close to 0, the cost is high and viceversa. ![Cost Function](http://ml-cheatsheet.readthedocs.io/en/latest/_images/y1andy2_logistic_function.png).\n",
    "\n",
    "After calculating the cost function, the next step is implement an algorithm to decrease the cost. In order to do this, we're going to use the popular Gradien Descent, already explained in the [Linear Regression Tutorial](2_LinearRegression.ipynb). Nevertheless, the pseudocode for the algorithm is ![Gradient Descent Pseudocode](https://cdn-images-1.medium.com/max/1040/1*oJKalifbWzwuo3fRjWJjTg.png). \n",
    "\n",
    "So, the next step is to calculate the gradient of the cost function with respect to the weights parameters $\\theta$, but before deriving, let's clarify some terms:\n",
    "$\\hat{y} = h_\\theta(x) = p(y = 1 \\mid x, \\theta) = \\frac{1}{1+e^{-\\theta^\\top x}}$.\n",
    "<br>\n",
    "$\\text{cost function} = J(\\theta) = \\sum_{i=1} ylog(\\hat{y})+(1-y)log(1-\\hat{y})$.\n",
    "\n",
    "Just by manipulating this last expression:\n",
    "Consider $ log(\\hat{y}) = log(\\frac{1}{1+e^{-\\theta^\\top x}}) = -log(1+e^{-\\theta^\\top x})$ and $log(1-\\hat{y}) = log(1-\\frac{1}{1+e^{-\\theta^\\top x}}) = log(\\frac{e^{-\\theta^\\top x}}{1+e^{-\\theta^\\top x}}) = log(e^{-\\theta^\\top x})-log(1+e^{\\theta^\\top x}) = -\\theta^\\top x - log(1+e^{\\theta^\\top x})$.\n",
    "\n",
    "<br>\n",
    "Plugging in the two simplified expressions above, we obtain: $J(\\theta)=-\\frac{1}{m}\\sum_{i=1}^{m}y^{i}\\log(h_\\theta(x^{i}))+(1-y^{i})\\log(1-h_\\theta(x^{i})) = -\\frac{1}{m}\\sum_{i=1}^m -y^i(\\log ( 1+e^{-\\theta x^i})) + (1-y^i)(-\\theta x^i-\\log ( 1+e^{-\\theta x^i} )) =$\n",
    "<br> $-\\frac{1}{m}\\sum_{i=1}^m y_i\\theta x^i-\\theta x^i-\\log(1+e^{-\\theta x^i})=-\\frac{1}{m}\\sum_{i=1}^m y_i\\theta x^i-\\log(1+e^{\\theta x^i})$ where the second equality follows from $-\\theta x^i-\\log(1+e^{-\\theta x^i})=\\log e^{\\theta x^i}+\\log(1+e^{-\\theta x^i})=-\\log(1+e^{\\theta x^i}).$\n",
    "\n",
    "Now, it's just deriving $\\frac{\\partial J(\\theta)}{\\partial \\theta} = \\frac{\\partial}{\\partial \\theta}\\frac{-1}{m}\\sum_{i=1}^m y_i\\theta x^i-\\log(1+e^{\\theta x^i}) = \\frac{-1}{m}\\sum_{i=1}^m y_i x^i-\\frac{e^{\\theta x^i}x^i}{1+e^{\\theta x^i}} = \\frac{-1}{m}\\sum_{i=1}^m x^i (y_i - \\frac{1}{1+e^{-\\theta x^i}}) = \\frac{1}{m}\\sum_{i=1}^m x^i (\\hat{y}_i - y_i)$. \n",
    "\n",
    "So the $gradient = \\frac{1}{m}\\sum_{i=1}^m x^i (\\hat{y}_i - y_i)$. The implementation is the vectorized form."
   ]
  },
  {
   "cell_type": "code",
   "execution_count": 13,
   "metadata": {
    "collapsed": true
   },
   "outputs": [],
   "source": [
    "def gradient(X, y, theta, lr):\n",
    "    z = np.dot(X, theta)\n",
    "    h = sigmoid(z)\n",
    "    gradient = (np.dot(X.T, (h - y))) / y.size\n",
    "    return theta - lr * gradient"
   ]
  },
  {
   "cell_type": "markdown",
   "metadata": {},
   "source": [
    "This is all the theory behind Logistic Regression, it wasn't so difficult, right? Well, maybe a little harder than Linear Regression. Now, let's see if it truly works. For that, we will implement the Gradient Descent pseudocode and plot the error, so as to see if it gets smaller."
   ]
  },
  {
   "cell_type": "code",
   "execution_count": 14,
   "metadata": {
    "collapsed": true
   },
   "outputs": [],
   "source": [
    "lr = 0.1\n",
    "theta = np.zeros((X_train.shape[1], 1))"
   ]
  },
  {
   "cell_type": "code",
   "execution_count": 15,
   "metadata": {
    "collapsed": true
   },
   "outputs": [],
   "source": [
    "error = []\n",
    "acc = []\n",
    "acc_test = []"
   ]
  },
  {
   "cell_type": "code",
   "execution_count": 16,
   "metadata": {},
   "outputs": [
    {
     "name": "stdout",
     "output_type": "stream",
     "text": [
      "CPU times: user 4.28 s, sys: 4.3 ms, total: 4.28 s\n",
      "Wall time: 4.28 s\n"
     ]
    }
   ],
   "source": [
    "%%time\n",
    "for i in range(10000):\n",
    "    theta = gradient(X_train, Y_train, theta, lr)\n",
    "    costFunction(X_train, Y_train, theta)\n",
    "    Y_prob = logisticRegression(X_train, theta) #probabilities\n",
    "    \n",
    "    Y_prob[Y_prob >= 0.5] = 1\n",
    "    Y_prob[Y_prob < 0.5] = 0\n",
    "    acc.append(accuracy_score(Y_train, Y_prob))\n",
    "    error.append(costFunction(X_train, Y_train, theta).reshape((1)))\n",
    "    \n",
    "    Y_prob = logisticRegression(X_test, theta) #probabilities\n",
    "    \n",
    "    Y_prob[Y_prob >= 0.5] = 1\n",
    "    Y_prob[Y_prob < 0.5] = 0\n",
    "    acc_test.append(accuracy_score(Y_test, Y_prob))"
   ]
  },
  {
   "cell_type": "code",
   "execution_count": 17,
   "metadata": {
    "scrolled": true
   },
   "outputs": [
    {
     "data": {
      "text/plain": [
       "[<matplotlib.lines.Line2D at 0x7fc7a3095358>]"
      ]
     },
     "execution_count": 17,
     "metadata": {},
     "output_type": "execute_result"
    },
    {
     "data": {
      "image/png": "[encoded data removed]",
      "text/plain": [
       "<matplotlib.figure.Figure at 0x7fc7b6db5828>"
      ]
     },
     "metadata": {},
     "output_type": "display_data"
    }
   ],
   "source": [
    "import matplotlib.pyplot as plt\n",
    "%matplotlib inline\n",
    "plt.plot(error)"
   ]
  },
  {
   "cell_type": "markdown",
   "metadata": {},
   "source": [
    "As we can see from the plot above, the error decreases rapidly and it gets stuck around 0.45. Let's plot the accuracy over the training and test set to compare it with the scikit-learn implementation."
   ]
  },
  {
   "cell_type": "code",
   "execution_count": 18,
   "metadata": {},
   "outputs": [
    {
     "data": {
      "text/plain": [
       "[<matplotlib.lines.Line2D at 0x7fc7a3070240>]"
      ]
     },
     "execution_count": 18,
     "metadata": {},
     "output_type": "execute_result"
    },
    {
     "data": {
      "image/png": "[encoded data removed]",
      "text/plain": [
       "<matplotlib.figure.Figure at 0x7fc7a3070198>"
      ]
     },
     "metadata": {},
     "output_type": "display_data"
    }
   ],
   "source": [
    "plt.plot(acc_test, color='green')\n",
    "plt.plot(acc)"
   ]
  },
  {
   "cell_type": "markdown",
   "metadata": {},
   "source": [
    "Here it happens something strange, the accuracy increases rapidly to approximately 0.786 and after little iterations gets stuck in 0.788. This is possibly due to the limitations of the hypothesis, because is linear, and that's the maximum accuracy it can get.\n",
    "\n",
    "However, when we compare it with the scikit-learn implementation we see that both achieve the same accuracy on the test set, indicating that it's highly probable that with this model, the maximum accuracy possible in this dataset is 0.788.\n",
    "\n",
    "### 3.1 Adding regularization\n",
    "If we plot the theta parameter, we would see that it takes large numbers. This could cause a problem called overfitting, which means that the model has learned so well the training data that it can't generalize and consequently the error on the test data will be worst. In order to fix this, we add to the cost function the squared of the parameters, so the values are the smallest possible.\n",
    "\n",
    "Now, the cost function is $J(\\theta) = \\frac{-1}{m}\\sum_{i=1} ylog(\\hat{y})+(1-y)log(1-\\hat{y})+\\frac{\\lambda}{2m}\\sum_{j=1}^{n}\\theta_j^2$"
   ]
  },
  {
   "cell_type": "code",
   "execution_count": 19,
   "metadata": {
    "collapsed": true
   },
   "outputs": [],
   "source": [
    "def costFunction_reg(X, Y, theta, lam):\n",
    "    z = X@theta\n",
    "    h = sigmoid(z)\n",
    "    return (1/X.shape[0])*(-Y.T@np.log(h)-(1-Y).T@np.log(1-h)+(lam/2)*theta.T@theta)"
   ]
  },
  {
   "cell_type": "markdown",
   "metadata": {},
   "source": [
    "And accordingly with the new cost function, the new gradient is $\\frac{1}{m}\\sum_{i=1}^m x^i (\\hat{y}_i - y_i) + \\frac{\\lambda}{m}\\theta$. The implementation is the vectorized form."
   ]
  },
  {
   "cell_type": "code",
   "execution_count": 20,
   "metadata": {
    "collapsed": true
   },
   "outputs": [],
   "source": [
    "def gradient_reg(X, y, theta, lr, lam):\n",
    "    z = np.dot(X, theta)\n",
    "    h = sigmoid(z)\n",
    "    new_theta = theta\n",
    "    new_theta[0] = 0\n",
    "    gradient = (np.dot(X.T, (h - y))+lam*new_theta) / y.size\n",
    "    return theta - lr * gradient"
   ]
  },
  {
   "cell_type": "markdown",
   "metadata": {},
   "source": [
    "The rest is the same as before, implement the Gradient Descent algorithm and append the results of every iteretion to a list so we can later plot it."
   ]
  },
  {
   "cell_type": "code",
   "execution_count": 47,
   "metadata": {
    "collapsed": true
   },
   "outputs": [],
   "source": [
    "lr_reg = 0.1\n",
    "lam = 1\n",
    "theta_reg = np.zeros((X_train.shape[1], 1))"
   ]
  },
  {
   "cell_type": "code",
   "execution_count": 48,
   "metadata": {
    "collapsed": true
   },
   "outputs": [],
   "source": [
    "error_reg = []\n",
    "acc_reg = []\n",
    "acc_test_reg = []"
   ]
  },
  {
   "cell_type": "code",
   "execution_count": 49,
   "metadata": {},
   "outputs": [
    {
     "name": "stdout",
     "output_type": "stream",
     "text": [
      "CPU times: user 5.02 s, sys: 7.97 ms, total: 5.02 s\n",
      "Wall time: 5.04 s\n"
     ]
    }
   ],
   "source": [
    "%%time\n",
    "for i in range(10000):\n",
    "    theta = gradient_reg(X_train, Y_train, theta, lr, lam)\n",
    "    costFunction_reg(X_train, Y_train, theta, lam)\n",
    "    Y_prob = logisticRegression(X_train, theta) #probabilities\n",
    "    \n",
    "    Y_prob[Y_prob >= 0.5] = 1\n",
    "    Y_prob[Y_prob < 0.5] = 0\n",
    "    acc_reg.append(accuracy_score(Y_train, Y_prob))\n",
    "    error_reg.append(costFunction(X_train, Y_train, theta).reshape((1)))\n",
    "    \n",
    "    Y_prob = logisticRegression(X_test, theta) #probabilities\n",
    "    \n",
    "    Y_prob[Y_prob >= 0.5] = 1\n",
    "    Y_prob[Y_prob < 0.5] = 0\n",
    "    acc_test_reg.append(accuracy_score(Y_test, Y_prob))"
   ]
  },
  {
   "cell_type": "code",
   "execution_count": 50,
   "metadata": {},
   "outputs": [
    {
     "data": {
      "text/plain": [
       "[<matplotlib.lines.Line2D at 0x7fc7a2a3bef0>]"
      ]
     },
     "execution_count": 50,
     "metadata": {},
     "output_type": "execute_result"
    },
    {
     "data": {
      "image/png": "[encoded data removed]",
      "text/plain": [
       "<matplotlib.figure.Figure at 0x7fc7a2a8d470>"
      ]
     },
     "metadata": {},
     "output_type": "display_data"
    }
   ],
   "source": [
    "plt.plot(error_reg)"
   ]
  },
  {
   "cell_type": "code",
   "execution_count": 51,
   "metadata": {},
   "outputs": [
    {
     "data": {
      "text/plain": [
       "[<matplotlib.lines.Line2D at 0x7fc7a2a2c470>]"
      ]
     },
     "execution_count": 51,
     "metadata": {},
     "output_type": "execute_result"
    },
    {
     "data": {
      "image/png": "[encoded data removed]",
      "text/plain": [
       "<matplotlib.figure.Figure at 0x7fc7a2b192b0>"
      ]
     },
     "metadata": {},
     "output_type": "display_data"
    }
   ],
   "source": [
    "plt.plot(acc_test_reg, color='green')\n",
    "plt.plot(acc_reg)"
   ]
  },
  {
   "cell_type": "markdown",
   "metadata": {},
   "source": [
    "Curiously, the test accuracy of the model with the regularization is worst than the normal implementation. This means that the model hadn't overfitted the dataset. Nevertheless, with other dataset if the accuracy on the test dataset is far worse than the training dataset, overfiting may be the cause and adding regularization the solution. At least now, you now how to implement it.\n",
    "\n",
    "Reference:\n",
    "1. https://github.com/martinpella/logistic-reg/blob/master/logistic_reg.ipynb\n",
    "2. https://www.kaggle.com/emilyhorsman/basic-logistic-regression-with-numpy\n",
    "3. http://ml-cheatsheet.readthedocs.io/en/latest/logistic_regression.html\n",
    "4. https://www.statlect.com/fundamentals-of-statistics/classification-models\n",
    "5. https://www.statlect.com/fundamentals-of-statistics/logistic-model-maximum-likelihood\n",
    "6. https://math.stackexchange.com/questions/477207/derivative-of-cost-function-for-logistic-regression\n",
    "7. http://thegrandjanitor.com/2015/08/20/gradient-descent-for-logistic-regression/\n",
    "8. http://ucanalytics.com/blogs/gradient-descent-logistic-regression-simplified-step-step-visual-guide/\n",
    "9. https://towardsdatascience.com/logistic-regression-detailed-overview-46c4da4303bc\n",
    "10. [Deep Learning Book by Ian Goodfellow and Yoshua Bengio and Aaron Courville](https://www.deeplearningbook.org/)\n",
    "11. [Coursera - Machine Learning](https://www.coursera.org/learn/machine-learning)"
   ]
  }
 ],
 "metadata": {
  "kernelspec": {
   "display_name": "Python 3",
   "language": "python",
   "name": "python3"
  },
  "language_info": {
   "codemirror_mode": {
    "name": "ipython",
    "version": 3
   },
   "file_extension": ".py",
   "mimetype": "text/x-python",
   "name": "python",
   "nbconvert_exporter": "python",
   "pygments_lexer": "ipython3",
   "version": "3.6.3"
  }
 },
 "nbformat": 4,
 "nbformat_minor": 2
}
