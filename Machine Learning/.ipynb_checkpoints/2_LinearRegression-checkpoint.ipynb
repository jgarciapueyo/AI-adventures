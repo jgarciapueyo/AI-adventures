{
 "cells": [
  {
   "cell_type": "markdown",
   "metadata": {},
   "source": [
    "# LINEAR REGRESSION\n",
    "\n",
    "### WHAT IT IS?\n",
    "Linear regression is one of the most basic and simple Machine Learning algorithms. It is a supervised learning algorithm, which means that the training data consists of a set of attributes and each one contains a label, the desired output.\n",
    "\n",
    "This method solves a regression problem because the output distribution is continuous.\n",
    "\n",
    "The objective is to build an algorithm that given a vector $x \\in \\mathbb{R}^{n}$ as the input can predict the value of a scalar $y \\in \\mathbb{R}$. The output $y$ is a linear function of the input and there the name.\n",
    "Let $\\hat{y}$ the value that our model predicts y should take, we define the output to be $\\hat{y} = w^\\top x$, where $w \\in \\mathbb{R}^n$ is the vector of parameters we have to learn.\n",
    "\n",
    "###  General explanation of notebook\n",
    "The structure of the notebook is getting all the data and process it to standirize it. Later, we will use the scikit-learn library implementation of Linear Regression. Finally, we will go through the mathematical explanation and implement it from scratch to compare it.\n",
    "\n",
    "### 1. Getting the data\n",
    "First of all, we have to import all of the dependencies that we will use to retrieve the data and cleaning it."
   ]
  },
  {
   "cell_type": "code",
   "execution_count": 1,
   "metadata": {
    "collapsed": true
   },
   "outputs": [],
   "source": [
    "import pandas as pd\n",
    "import numpy as np"
   ]
  },
  {
   "cell_type": "code",
   "execution_count": 2,
   "metadata": {
    "scrolled": true
   },
   "outputs": [
    {
     "name": "stdout",
     "output_type": "stream",
     "text": [
      "Non estandarized data\n"
     ]
    },
    {
     "data": {
      "text/html": [
       "<div>\n",
       "<style>\n",
       "    .dataframe thead tr:only-child th {\n",
       "        text-align: right;\n",
       "    }\n",
       "\n",
       "    .dataframe thead th {\n",
       "        text-align: left;\n",
       "    }\n",
       "\n",
       "    .dataframe tbody tr th {\n",
       "        vertical-align: top;\n",
       "    }\n",
       "</style>\n",
       "<table border=\"1\" class=\"dataframe\">\n",
       "  <thead>\n",
       "    <tr style=\"text-align: right;\">\n",
       "      <th></th>\n",
       "      <th>symboling</th>\n",
       "      <th>normalized-losses</th>\n",
       "      <th>make</th>\n",
       "      <th>fuel-type</th>\n",
       "      <th>aspiration</th>\n",
       "      <th>num-of-doors</th>\n",
       "      <th>body-style</th>\n",
       "      <th>drive-wheels</th>\n",
       "      <th>engine-location</th>\n",
       "      <th>wheel-base</th>\n",
       "      <th>...</th>\n",
       "      <th>engine-size</th>\n",
       "      <th>fuel-system</th>\n",
       "      <th>bore</th>\n",
       "      <th>stroke</th>\n",
       "      <th>compression-ratio</th>\n",
       "      <th>horsepower</th>\n",
       "      <th>peak-rpm</th>\n",
       "      <th>city-mpg</th>\n",
       "      <th>highway-mpg</th>\n",
       "      <th>price</th>\n",
       "    </tr>\n",
       "  </thead>\n",
       "  <tbody>\n",
       "    <tr>\n",
       "      <th>0</th>\n",
       "      <td>3</td>\n",
       "      <td>NaN</td>\n",
       "      <td>alfa-romero</td>\n",
       "      <td>gas</td>\n",
       "      <td>std</td>\n",
       "      <td>two</td>\n",
       "      <td>convertible</td>\n",
       "      <td>rwd</td>\n",
       "      <td>front</td>\n",
       "      <td>88.6</td>\n",
       "      <td>...</td>\n",
       "      <td>130</td>\n",
       "      <td>mpfi</td>\n",
       "      <td>3.47</td>\n",
       "      <td>2.68</td>\n",
       "      <td>9.0</td>\n",
       "      <td>111.0</td>\n",
       "      <td>5000.0</td>\n",
       "      <td>21</td>\n",
       "      <td>27</td>\n",
       "      <td>13495.0</td>\n",
       "    </tr>\n",
       "    <tr>\n",
       "      <th>1</th>\n",
       "      <td>3</td>\n",
       "      <td>NaN</td>\n",
       "      <td>alfa-romero</td>\n",
       "      <td>gas</td>\n",
       "      <td>std</td>\n",
       "      <td>two</td>\n",
       "      <td>convertible</td>\n",
       "      <td>rwd</td>\n",
       "      <td>front</td>\n",
       "      <td>88.6</td>\n",
       "      <td>...</td>\n",
       "      <td>130</td>\n",
       "      <td>mpfi</td>\n",
       "      <td>3.47</td>\n",
       "      <td>2.68</td>\n",
       "      <td>9.0</td>\n",
       "      <td>111.0</td>\n",
       "      <td>5000.0</td>\n",
       "      <td>21</td>\n",
       "      <td>27</td>\n",
       "      <td>16500.0</td>\n",
       "    </tr>\n",
       "    <tr>\n",
       "      <th>2</th>\n",
       "      <td>1</td>\n",
       "      <td>NaN</td>\n",
       "      <td>alfa-romero</td>\n",
       "      <td>gas</td>\n",
       "      <td>std</td>\n",
       "      <td>two</td>\n",
       "      <td>hatchback</td>\n",
       "      <td>rwd</td>\n",
       "      <td>front</td>\n",
       "      <td>94.5</td>\n",
       "      <td>...</td>\n",
       "      <td>152</td>\n",
       "      <td>mpfi</td>\n",
       "      <td>2.68</td>\n",
       "      <td>3.47</td>\n",
       "      <td>9.0</td>\n",
       "      <td>154.0</td>\n",
       "      <td>5000.0</td>\n",
       "      <td>19</td>\n",
       "      <td>26</td>\n",
       "      <td>16500.0</td>\n",
       "    </tr>\n",
       "    <tr>\n",
       "      <th>3</th>\n",
       "      <td>2</td>\n",
       "      <td>164.0</td>\n",
       "      <td>audi</td>\n",
       "      <td>gas</td>\n",
       "      <td>std</td>\n",
       "      <td>four</td>\n",
       "      <td>sedan</td>\n",
       "      <td>fwd</td>\n",
       "      <td>front</td>\n",
       "      <td>99.8</td>\n",
       "      <td>...</td>\n",
       "      <td>109</td>\n",
       "      <td>mpfi</td>\n",
       "      <td>3.19</td>\n",
       "      <td>3.40</td>\n",
       "      <td>10.0</td>\n",
       "      <td>102.0</td>\n",
       "      <td>5500.0</td>\n",
       "      <td>24</td>\n",
       "      <td>30</td>\n",
       "      <td>13950.0</td>\n",
       "    </tr>\n",
       "    <tr>\n",
       "      <th>4</th>\n",
       "      <td>2</td>\n",
       "      <td>164.0</td>\n",
       "      <td>audi</td>\n",
       "      <td>gas</td>\n",
       "      <td>std</td>\n",
       "      <td>four</td>\n",
       "      <td>sedan</td>\n",
       "      <td>4wd</td>\n",
       "      <td>front</td>\n",
       "      <td>99.4</td>\n",
       "      <td>...</td>\n",
       "      <td>136</td>\n",
       "      <td>mpfi</td>\n",
       "      <td>3.19</td>\n",
       "      <td>3.40</td>\n",
       "      <td>8.0</td>\n",
       "      <td>115.0</td>\n",
       "      <td>5500.0</td>\n",
       "      <td>18</td>\n",
       "      <td>22</td>\n",
       "      <td>17450.0</td>\n",
       "    </tr>\n",
       "  </tbody>\n",
       "</table>\n",
       "<p>5 rows × 26 columns</p>\n",
       "</div>"
      ],
      "text/plain": [
       "   symboling  normalized-losses         make fuel-type aspiration  \\\n",
       "0          3                NaN  alfa-romero       gas        std   \n",
       "1          3                NaN  alfa-romero       gas        std   \n",
       "2          1                NaN  alfa-romero       gas        std   \n",
       "3          2              164.0         audi       gas        std   \n",
       "4          2              164.0         audi       gas        std   \n",
       "\n",
       "  num-of-doors   body-style drive-wheels engine-location  wheel-base   ...     \\\n",
       "0          two  convertible          rwd           front        88.6   ...      \n",
       "1          two  convertible          rwd           front        88.6   ...      \n",
       "2          two    hatchback          rwd           front        94.5   ...      \n",
       "3         four        sedan          fwd           front        99.8   ...      \n",
       "4         four        sedan          4wd           front        99.4   ...      \n",
       "\n",
       "   engine-size  fuel-system  bore  stroke compression-ratio horsepower  \\\n",
       "0          130         mpfi  3.47    2.68               9.0      111.0   \n",
       "1          130         mpfi  3.47    2.68               9.0      111.0   \n",
       "2          152         mpfi  2.68    3.47               9.0      154.0   \n",
       "3          109         mpfi  3.19    3.40              10.0      102.0   \n",
       "4          136         mpfi  3.19    3.40               8.0      115.0   \n",
       "\n",
       "   peak-rpm city-mpg  highway-mpg    price  \n",
       "0    5000.0       21           27  13495.0  \n",
       "1    5000.0       21           27  16500.0  \n",
       "2    5000.0       19           26  16500.0  \n",
       "3    5500.0       24           30  13950.0  \n",
       "4    5500.0       18           22  17450.0  \n",
       "\n",
       "[5 rows x 26 columns]"
      ]
     },
     "execution_count": 2,
     "metadata": {},
     "output_type": "execute_result"
    }
   ],
   "source": [
    "url = \"../datasets/car/imports-85.data\"\n",
    "\n",
    "# load dataset into Pandas DataFrame\n",
    "df = pd.read_csv(url, na_values= ['?'])\n",
    "features = df.columns\n",
    "\n",
    "print(\"Non estandarized data\")\n",
    "df.head()"
   ]
  },
  {
   "cell_type": "markdown",
   "metadata": {},
   "source": [
    "This is the original dataset, containing NaN values as well as non-numerical attributes. Since this model uses a linear function of the attributes, we must convert them to the appropiate type. "
   ]
  },
  {
   "cell_type": "code",
   "execution_count": 3,
   "metadata": {
    "scrolled": true
   },
   "outputs": [
    {
     "data": {
      "text/html": [
       "<div>\n",
       "<style>\n",
       "    .dataframe thead tr:only-child th {\n",
       "        text-align: right;\n",
       "    }\n",
       "\n",
       "    .dataframe thead th {\n",
       "        text-align: left;\n",
       "    }\n",
       "\n",
       "    .dataframe tbody tr th {\n",
       "        vertical-align: top;\n",
       "    }\n",
       "</style>\n",
       "<table border=\"1\" class=\"dataframe\">\n",
       "  <thead>\n",
       "    <tr style=\"text-align: right;\">\n",
       "      <th></th>\n",
       "      <th>symboling</th>\n",
       "      <th>normalized-losses</th>\n",
       "      <th>make</th>\n",
       "      <th>fuel-type</th>\n",
       "      <th>aspiration</th>\n",
       "      <th>num-of-doors</th>\n",
       "      <th>body-style</th>\n",
       "      <th>drive-wheels</th>\n",
       "      <th>engine-location</th>\n",
       "      <th>wheel-base</th>\n",
       "      <th>...</th>\n",
       "      <th>engine-size</th>\n",
       "      <th>fuel-system</th>\n",
       "      <th>bore</th>\n",
       "      <th>stroke</th>\n",
       "      <th>compression-ratio</th>\n",
       "      <th>horsepower</th>\n",
       "      <th>peak-rpm</th>\n",
       "      <th>city-mpg</th>\n",
       "      <th>highway-mpg</th>\n",
       "      <th>price</th>\n",
       "    </tr>\n",
       "  </thead>\n",
       "  <tbody>\n",
       "    <tr>\n",
       "      <th>0</th>\n",
       "      <td>3</td>\n",
       "      <td>122.0</td>\n",
       "      <td>0</td>\n",
       "      <td>1</td>\n",
       "      <td>0</td>\n",
       "      <td>1</td>\n",
       "      <td>0</td>\n",
       "      <td>2</td>\n",
       "      <td>0</td>\n",
       "      <td>88.6</td>\n",
       "      <td>...</td>\n",
       "      <td>130</td>\n",
       "      <td>5</td>\n",
       "      <td>3.47</td>\n",
       "      <td>2.68</td>\n",
       "      <td>9.0</td>\n",
       "      <td>111.0</td>\n",
       "      <td>5000.0</td>\n",
       "      <td>21</td>\n",
       "      <td>27</td>\n",
       "      <td>13495.0</td>\n",
       "    </tr>\n",
       "    <tr>\n",
       "      <th>1</th>\n",
       "      <td>3</td>\n",
       "      <td>122.0</td>\n",
       "      <td>0</td>\n",
       "      <td>1</td>\n",
       "      <td>0</td>\n",
       "      <td>1</td>\n",
       "      <td>0</td>\n",
       "      <td>2</td>\n",
       "      <td>0</td>\n",
       "      <td>88.6</td>\n",
       "      <td>...</td>\n",
       "      <td>130</td>\n",
       "      <td>5</td>\n",
       "      <td>3.47</td>\n",
       "      <td>2.68</td>\n",
       "      <td>9.0</td>\n",
       "      <td>111.0</td>\n",
       "      <td>5000.0</td>\n",
       "      <td>21</td>\n",
       "      <td>27</td>\n",
       "      <td>16500.0</td>\n",
       "    </tr>\n",
       "    <tr>\n",
       "      <th>2</th>\n",
       "      <td>1</td>\n",
       "      <td>122.0</td>\n",
       "      <td>0</td>\n",
       "      <td>1</td>\n",
       "      <td>0</td>\n",
       "      <td>1</td>\n",
       "      <td>2</td>\n",
       "      <td>2</td>\n",
       "      <td>0</td>\n",
       "      <td>94.5</td>\n",
       "      <td>...</td>\n",
       "      <td>152</td>\n",
       "      <td>5</td>\n",
       "      <td>2.68</td>\n",
       "      <td>3.47</td>\n",
       "      <td>9.0</td>\n",
       "      <td>154.0</td>\n",
       "      <td>5000.0</td>\n",
       "      <td>19</td>\n",
       "      <td>26</td>\n",
       "      <td>16500.0</td>\n",
       "    </tr>\n",
       "    <tr>\n",
       "      <th>3</th>\n",
       "      <td>2</td>\n",
       "      <td>164.0</td>\n",
       "      <td>1</td>\n",
       "      <td>1</td>\n",
       "      <td>0</td>\n",
       "      <td>0</td>\n",
       "      <td>3</td>\n",
       "      <td>1</td>\n",
       "      <td>0</td>\n",
       "      <td>99.8</td>\n",
       "      <td>...</td>\n",
       "      <td>109</td>\n",
       "      <td>5</td>\n",
       "      <td>3.19</td>\n",
       "      <td>3.40</td>\n",
       "      <td>10.0</td>\n",
       "      <td>102.0</td>\n",
       "      <td>5500.0</td>\n",
       "      <td>24</td>\n",
       "      <td>30</td>\n",
       "      <td>13950.0</td>\n",
       "    </tr>\n",
       "    <tr>\n",
       "      <th>4</th>\n",
       "      <td>2</td>\n",
       "      <td>164.0</td>\n",
       "      <td>1</td>\n",
       "      <td>1</td>\n",
       "      <td>0</td>\n",
       "      <td>0</td>\n",
       "      <td>3</td>\n",
       "      <td>0</td>\n",
       "      <td>0</td>\n",
       "      <td>99.4</td>\n",
       "      <td>...</td>\n",
       "      <td>136</td>\n",
       "      <td>5</td>\n",
       "      <td>3.19</td>\n",
       "      <td>3.40</td>\n",
       "      <td>8.0</td>\n",
       "      <td>115.0</td>\n",
       "      <td>5500.0</td>\n",
       "      <td>18</td>\n",
       "      <td>22</td>\n",
       "      <td>17450.0</td>\n",
       "    </tr>\n",
       "  </tbody>\n",
       "</table>\n",
       "<p>5 rows × 26 columns</p>\n",
       "</div>"
      ],
      "text/plain": [
       "   symboling  normalized-losses  make  fuel-type  aspiration  num-of-doors  \\\n",
       "0          3              122.0     0          1           0             1   \n",
       "1          3              122.0     0          1           0             1   \n",
       "2          1              122.0     0          1           0             1   \n",
       "3          2              164.0     1          1           0             0   \n",
       "4          2              164.0     1          1           0             0   \n",
       "\n",
       "   body-style  drive-wheels  engine-location  wheel-base   ...     \\\n",
       "0           0             2                0        88.6   ...      \n",
       "1           0             2                0        88.6   ...      \n",
       "2           2             2                0        94.5   ...      \n",
       "3           3             1                0        99.8   ...      \n",
       "4           3             0                0        99.4   ...      \n",
       "\n",
       "   engine-size  fuel-system  bore  stroke  compression-ratio  horsepower  \\\n",
       "0          130            5  3.47    2.68                9.0       111.0   \n",
       "1          130            5  3.47    2.68                9.0       111.0   \n",
       "2          152            5  2.68    3.47                9.0       154.0   \n",
       "3          109            5  3.19    3.40               10.0       102.0   \n",
       "4          136            5  3.19    3.40                8.0       115.0   \n",
       "\n",
       "   peak-rpm  city-mpg  highway-mpg    price  \n",
       "0    5000.0        21           27  13495.0  \n",
       "1    5000.0        21           27  16500.0  \n",
       "2    5000.0        19           26  16500.0  \n",
       "3    5500.0        24           30  13950.0  \n",
       "4    5500.0        18           22  17450.0  \n",
       "\n",
       "[5 rows x 26 columns]"
      ]
     },
     "execution_count": 3,
     "metadata": {},
     "output_type": "execute_result"
    }
   ],
   "source": [
    "for col in df.select_dtypes(include=['int16', 'int32', 'int64', 'float16', 'float32', 'float64']):\n",
    "    df[col] = pd.to_numeric(df[col])\n",
    "    df[col] = df[col].replace(np.nan, df[col].mean())\n",
    "\n",
    "for col in df.select_dtypes(exclude=[\"number\"]).columns:\n",
    "    df[col] = df[col].astype('category')    \n",
    "    df[col] = df[col].cat.codes\n",
    "    \n",
    "df.head()"
   ]
  },
  {
   "cell_type": "markdown",
   "metadata": {},
   "source": [
    "Now that every attributes is a value, we will standarize the data to increase the performance of the algorithm. Tutorials on this topic can be find on the internet, we will use scikit-learn implementation."
   ]
  },
  {
   "cell_type": "code",
   "execution_count": 4,
   "metadata": {
    "collapsed": true
   },
   "outputs": [],
   "source": [
    "from sklearn.preprocessing import StandardScaler"
   ]
  },
  {
   "cell_type": "markdown",
   "metadata": {},
   "source": [
    "Since we only want to standarize the input and not the output, which is the price, we have to split the data."
   ]
  },
  {
   "cell_type": "code",
   "execution_count": 5,
   "metadata": {},
   "outputs": [
    {
     "data": {
      "text/html": [
       "<div>\n",
       "<style>\n",
       "    .dataframe thead tr:only-child th {\n",
       "        text-align: right;\n",
       "    }\n",
       "\n",
       "    .dataframe thead th {\n",
       "        text-align: left;\n",
       "    }\n",
       "\n",
       "    .dataframe tbody tr th {\n",
       "        vertical-align: top;\n",
       "    }\n",
       "</style>\n",
       "<table border=\"1\" class=\"dataframe\">\n",
       "  <thead>\n",
       "    <tr style=\"text-align: right;\">\n",
       "      <th></th>\n",
       "      <th>symboling</th>\n",
       "      <th>normalized-losses</th>\n",
       "      <th>make</th>\n",
       "      <th>fuel-type</th>\n",
       "      <th>aspiration</th>\n",
       "      <th>num-of-doors</th>\n",
       "      <th>body-style</th>\n",
       "      <th>drive-wheels</th>\n",
       "      <th>engine-location</th>\n",
       "      <th>wheel-base</th>\n",
       "      <th>...</th>\n",
       "      <th>num-of-cylinders</th>\n",
       "      <th>engine-size</th>\n",
       "      <th>fuel-system</th>\n",
       "      <th>bore</th>\n",
       "      <th>stroke</th>\n",
       "      <th>compression-ratio</th>\n",
       "      <th>horsepower</th>\n",
       "      <th>peak-rpm</th>\n",
       "      <th>city-mpg</th>\n",
       "      <th>highway-mpg</th>\n",
       "    </tr>\n",
       "  </thead>\n",
       "  <tbody>\n",
       "    <tr>\n",
       "      <th>0</th>\n",
       "      <td>1.743470</td>\n",
       "      <td>0.000000</td>\n",
       "      <td>-1.948256</td>\n",
       "      <td>0.328798</td>\n",
       "      <td>-0.469295</td>\n",
       "      <td>1.120713</td>\n",
       "      <td>-3.050975</td>\n",
       "      <td>1.213330</td>\n",
       "      <td>-0.121867</td>\n",
       "      <td>-1.690772</td>\n",
       "      <td>...</td>\n",
       "      <td>-0.147475</td>\n",
       "      <td>0.074449</td>\n",
       "      <td>0.869568</td>\n",
       "      <td>0.519089</td>\n",
       "      <td>-1.839404</td>\n",
       "      <td>-0.288349</td>\n",
       "      <td>0.171065</td>\n",
       "      <td>-0.263484</td>\n",
       "      <td>-0.646553</td>\n",
       "      <td>-0.546059</td>\n",
       "    </tr>\n",
       "    <tr>\n",
       "      <th>1</th>\n",
       "      <td>1.743470</td>\n",
       "      <td>0.000000</td>\n",
       "      <td>-1.948256</td>\n",
       "      <td>0.328798</td>\n",
       "      <td>-0.469295</td>\n",
       "      <td>1.120713</td>\n",
       "      <td>-3.050975</td>\n",
       "      <td>1.213330</td>\n",
       "      <td>-0.121867</td>\n",
       "      <td>-1.690772</td>\n",
       "      <td>...</td>\n",
       "      <td>-0.147475</td>\n",
       "      <td>0.074449</td>\n",
       "      <td>0.869568</td>\n",
       "      <td>0.519089</td>\n",
       "      <td>-1.839404</td>\n",
       "      <td>-0.288349</td>\n",
       "      <td>0.171065</td>\n",
       "      <td>-0.263484</td>\n",
       "      <td>-0.646553</td>\n",
       "      <td>-0.546059</td>\n",
       "    </tr>\n",
       "    <tr>\n",
       "      <th>2</th>\n",
       "      <td>0.133509</td>\n",
       "      <td>0.000000</td>\n",
       "      <td>-1.948256</td>\n",
       "      <td>0.328798</td>\n",
       "      <td>-0.469295</td>\n",
       "      <td>1.120713</td>\n",
       "      <td>-0.717207</td>\n",
       "      <td>1.213330</td>\n",
       "      <td>-0.121867</td>\n",
       "      <td>-0.708596</td>\n",
       "      <td>...</td>\n",
       "      <td>1.112210</td>\n",
       "      <td>0.604046</td>\n",
       "      <td>0.869568</td>\n",
       "      <td>-2.404862</td>\n",
       "      <td>0.685920</td>\n",
       "      <td>-0.288349</td>\n",
       "      <td>1.261807</td>\n",
       "      <td>-0.263484</td>\n",
       "      <td>-0.953012</td>\n",
       "      <td>-0.691627</td>\n",
       "    </tr>\n",
       "    <tr>\n",
       "      <th>3</th>\n",
       "      <td>0.938490</td>\n",
       "      <td>1.328961</td>\n",
       "      <td>-1.788499</td>\n",
       "      <td>0.328798</td>\n",
       "      <td>-0.469295</td>\n",
       "      <td>-0.826289</td>\n",
       "      <td>0.449677</td>\n",
       "      <td>-0.589081</td>\n",
       "      <td>-0.121867</td>\n",
       "      <td>0.173698</td>\n",
       "      <td>...</td>\n",
       "      <td>-0.147475</td>\n",
       "      <td>-0.431076</td>\n",
       "      <td>0.869568</td>\n",
       "      <td>-0.517248</td>\n",
       "      <td>0.462157</td>\n",
       "      <td>-0.035973</td>\n",
       "      <td>-0.057230</td>\n",
       "      <td>0.787346</td>\n",
       "      <td>-0.186865</td>\n",
       "      <td>-0.109354</td>\n",
       "    </tr>\n",
       "    <tr>\n",
       "      <th>4</th>\n",
       "      <td>0.938490</td>\n",
       "      <td>1.328961</td>\n",
       "      <td>-1.788499</td>\n",
       "      <td>0.328798</td>\n",
       "      <td>-0.469295</td>\n",
       "      <td>-0.826289</td>\n",
       "      <td>0.449677</td>\n",
       "      <td>-2.391492</td>\n",
       "      <td>-0.121867</td>\n",
       "      <td>0.107110</td>\n",
       "      <td>...</td>\n",
       "      <td>-1.407161</td>\n",
       "      <td>0.218885</td>\n",
       "      <td>0.869568</td>\n",
       "      <td>-0.517248</td>\n",
       "      <td>0.462157</td>\n",
       "      <td>-0.540725</td>\n",
       "      <td>0.272529</td>\n",
       "      <td>0.787346</td>\n",
       "      <td>-1.106241</td>\n",
       "      <td>-1.273900</td>\n",
       "    </tr>\n",
       "  </tbody>\n",
       "</table>\n",
       "<p>5 rows × 25 columns</p>\n",
       "</div>"
      ],
      "text/plain": [
       "   symboling  normalized-losses      make  fuel-type  aspiration  \\\n",
       "0   1.743470           0.000000 -1.948256   0.328798   -0.469295   \n",
       "1   1.743470           0.000000 -1.948256   0.328798   -0.469295   \n",
       "2   0.133509           0.000000 -1.948256   0.328798   -0.469295   \n",
       "3   0.938490           1.328961 -1.788499   0.328798   -0.469295   \n",
       "4   0.938490           1.328961 -1.788499   0.328798   -0.469295   \n",
       "\n",
       "   num-of-doors  body-style  drive-wheels  engine-location  wheel-base  \\\n",
       "0      1.120713   -3.050975      1.213330        -0.121867   -1.690772   \n",
       "1      1.120713   -3.050975      1.213330        -0.121867   -1.690772   \n",
       "2      1.120713   -0.717207      1.213330        -0.121867   -0.708596   \n",
       "3     -0.826289    0.449677     -0.589081        -0.121867    0.173698   \n",
       "4     -0.826289    0.449677     -2.391492        -0.121867    0.107110   \n",
       "\n",
       "      ...       num-of-cylinders  engine-size  fuel-system      bore  \\\n",
       "0     ...              -0.147475     0.074449     0.869568  0.519089   \n",
       "1     ...              -0.147475     0.074449     0.869568  0.519089   \n",
       "2     ...               1.112210     0.604046     0.869568 -2.404862   \n",
       "3     ...              -0.147475    -0.431076     0.869568 -0.517248   \n",
       "4     ...              -1.407161     0.218885     0.869568 -0.517248   \n",
       "\n",
       "     stroke  compression-ratio  horsepower  peak-rpm  city-mpg  highway-mpg  \n",
       "0 -1.839404          -0.288349    0.171065 -0.263484 -0.646553    -0.546059  \n",
       "1 -1.839404          -0.288349    0.171065 -0.263484 -0.646553    -0.546059  \n",
       "2  0.685920          -0.288349    1.261807 -0.263484 -0.953012    -0.691627  \n",
       "3  0.462157          -0.035973   -0.057230  0.787346 -0.186865    -0.109354  \n",
       "4  0.462157          -0.540725    0.272529  0.787346 -1.106241    -1.273900  \n",
       "\n",
       "[5 rows x 25 columns]"
      ]
     },
     "execution_count": 5,
     "metadata": {},
     "output_type": "execute_result"
    }
   ],
   "source": [
    "x = df.loc[:, df.columns != 'price'].values\n",
    "y = df.loc[:, ['price']].values\n",
    "\n",
    "x = StandardScaler().fit_transform(x)\n",
    "x = pd.DataFrame(x, columns=list(features[:-1]))\n",
    "y = pd.DataFrame(y, columns=[features[-1]])\n",
    "x.head()"
   ]
  },
  {
   "cell_type": "markdown",
   "metadata": {},
   "source": [
    "After processing, its the time to divide the dataset into train and test. This has been done arbitrarily for this tutorial, but there exists different rules and information can be found."
   ]
  },
  {
   "cell_type": "code",
   "execution_count": 6,
   "metadata": {
    "collapsed": true,
    "scrolled": true
   },
   "outputs": [],
   "source": [
    "X_train = x.as_matrix()[:190, :-1]\n",
    "Y_train = y.as_matrix()[:190, -1]\n",
    "X_test = x.as_matrix()[190:, :-1]\n",
    "Y_test = y.as_matrix()[190:, -1]"
   ]
  },
  {
   "cell_type": "markdown",
   "metadata": {},
   "source": [
    "### 2. Linear Regression with Scikit-learn \n",
    "In order to get a general idea of the result of Linear Regression, learn how to use a powerful library and later compare it with our algorithm, we are going to do first LR with the scikit-learn implementation.\n",
    "\n",
    "For a more complex algorithm, we can add the bias term, which is a parameter that does not depend on the input. After this, the output function is $\\hat{y} = b + w^\\top x$. Because we are implementing a vectorize version, we have to add a column of 1 to the input."
   ]
  },
  {
   "cell_type": "code",
   "execution_count": 7,
   "metadata": {
    "collapsed": true
   },
   "outputs": [],
   "source": [
    "X_train_ = np.append(np.ones((X_train.shape[0], 1)), X_train, axis=1)\n",
    "Y_train_ = Y_train.reshape((Y_train.shape[0], 1))  #Y_train must be reshaped so it is a (nx1) vector\n",
    "X_test_ = np.append(np.ones((X_test.shape[0], 1)), X_test, axis=1)\n",
    "Y_test_ = Y_test.reshape((Y_test.shape[0], 1)) #Y_train must be reshaped so it is a (nx1) vector"
   ]
  },
  {
   "cell_type": "code",
   "execution_count": 8,
   "metadata": {},
   "outputs": [
    {
     "data": {
      "text/plain": [
       "((190, 25), (190, 1), (15, 25), (190, 1))"
      ]
     },
     "execution_count": 8,
     "metadata": {},
     "output_type": "execute_result"
    }
   ],
   "source": [
    "X_train_.shape, Y_train_.shape, X_test_.shape, Y_train_.shape"
   ]
  },
  {
   "cell_type": "markdown",
   "metadata": {},
   "source": [
    "Each algorithm in ML consists of the model itself, which here is the output function, and the cost function we try to minimize, which here is the mean squared error."
   ]
  },
  {
   "cell_type": "code",
   "execution_count": 9,
   "metadata": {
    "scrolled": false
   },
   "outputs": [
    {
     "name": "stdout",
     "output_type": "stream",
     "text": [
      "Coefficients: \n",
      " [[    0.           373.40605313  -446.7188729  -1471.8445747\n",
      "   -812.41938807   646.65597073  -271.94836005  -725.73579376\n",
      "    740.74704641  1572.796544     338.84808915   444.98696799\n",
      "   1273.0723887    726.46373081  1081.63274641   195.05573189\n",
      "    749.75684068  5740.0065274    572.48664847  -191.68185725\n",
      "  -1063.16873075  -925.14573751 -1892.40835535  1186.24467667\n",
      "    447.79619501]]\n",
      "Mean squared error: 10158646.65\n",
      "Variance score: 0.29\n"
     ]
    }
   ],
   "source": [
    "from sklearn import linear_model #the model itself\n",
    "from sklearn.metrics import mean_squared_error, r2_score #the cost function and variance score\n",
    "\n",
    "# Create linear regression object\n",
    "regr = linear_model.LinearRegression()\n",
    "\n",
    "# Train the model using the training sets\n",
    "regr.fit(X_train_,Y_train_)\n",
    "\n",
    "# Make predictions using the testing set\n",
    "y_pred = regr.predict(X_test_)\n",
    "\n",
    "# The coefficients\n",
    "print('Coefficients: \\n', regr.coef_)\n",
    "# The mean squared error\n",
    "print(\"Mean squared error: %.2f\"\n",
    "      % mean_squared_error(Y_test_, y_pred))\n",
    "# Explained variance score: 1 is perfect prediction\n",
    "print('Variance score: %.2f' % r2_score(Y_test_, y_pred))"
   ]
  },
  {
   "cell_type": "markdown",
   "metadata": {},
   "source": [
    "### 3. Linear Regression implementation explained\n",
    "As previously explained, linear regression is a model that outputs a linear function of the given input. Formally, be the input vector $x \\in \\mathbb{R}^n$, the predicted value of a scalar $y \\in \\mathbb{R}$ is calculated by the formula $\\hat{y} = w^\\top x$ (vectorized form) or $\\hat{y} = w_1 x_1 + w_2 x_2 +...+ w_i x_i$ "
   ]
  },
  {
   "cell_type": "code",
   "execution_count": 10,
   "metadata": {
    "collapsed": true
   },
   "outputs": [],
   "source": [
    "theta = np.ones((X_train_.shape[1], 1)) #theta (w) is created as a column vector"
   ]
  },
  {
   "cell_type": "code",
   "execution_count": 11,
   "metadata": {
    "collapsed": true
   },
   "outputs": [],
   "source": [
    "def linearRegression(X, theta):\n",
    "    return np.dot(X, theta)"
   ]
  },
  {
   "cell_type": "markdown",
   "metadata": {},
   "source": [
    "Once that the model is defined, we have to define the error metric we will try to minimize. \n",
    "\n",
    "In supervised training, we have the real output (the label), $y \\in \\mathbb{R}$, and the predicted output given by the model, $\\hat{y} \\in \\mathbb{R}$. The objective is that the predicted value is as similar as possible to the real output. For that reason, an error metric has to be defined to see how similar this two values are.\n",
    "\n",
    "Usually, the metric chosen is the mean squared error, defined by $MSE = \\frac{1}{n}\\sum_{i=1}^{n}(y_i-\\hat{y}_i)^2$.\n",
    "\n",
    "In case, anyone want to go in depth about why $MSE$ is used, here is a [link](https://stats.stackexchange.com/questions/16508/calculating-likelihood-from-rmse/16534)."
   ]
  },
  {
   "cell_type": "code",
   "execution_count": 12,
   "metadata": {
    "collapsed": true
   },
   "outputs": [],
   "source": [
    "def mean_squared_error_scratch(Y_pred, Y):\n",
    "    return (1/(2*Y.shape[0]))*((Y_pred-Y).T@(Y_pred-Y))"
   ]
  },
  {
   "cell_type": "markdown",
   "metadata": {},
   "source": [
    "If we pay attention, the above definition adds a term to the error function, now it is defined as $MSE = \\frac{1}{2n}\\sum_{i=1}^{n}(\\hat{y}_i-y_i)^2$. The reason is the following, after declaring the model and the error function, we have to come up with an algorithm that minimizes this error.\n",
    "\n",
    "There are two options, solve it analytically, like it is explained [here](https://towardsdatascience.com/big4-tech-interview-question-derive-the-linear-regression-c45ccdd213e3) or through gradient descent. In this tutorial, we we'll use the second option.\n",
    "\n",
    "#### What is gradient descent?\n",
    "As stated in the [Wikipedia](https://en.wikipedia.org/wiki/Gradient_descent), Gradient descent is a first-order iterative optimization algorithm for finding the minimum of a function. This is the pseudocode of the Gradient Descent algorithm. ![Gradient Descent Pseudocode](https://cdn-images-1.medium.com/max/1040/1*oJKalifbWzwuo3fRjWJjTg.png)\n",
    "\n",
    "It consists of finding the minimum of the function by computing the gradient of the function, and updating the parameters in small steps until convergence. This image illustrates better the concept: ![Gradient Descent Example](https://cdn-images-1.medium.com/max/1600/1*f9a162GhpMbiTVTAua_lLQ.png)\n",
    "\n",
    "We'll modify it a little because instead of having a tolerance we will decide a fixed number of iterations of the algorithm."
   ]
  },
  {
   "cell_type": "code",
   "execution_count": 13,
   "metadata": {
    "collapsed": true
   },
   "outputs": [],
   "source": [
    "#Hyperparameters: parameters of the Gradient Descent\n",
    "lr = 0.003 #(alpha)"
   ]
  },
  {
   "cell_type": "markdown",
   "metadata": {},
   "source": [
    "As we see above, the gradient is required, but what is the gradient exactly?\n",
    "The gradient is, simply, the derivative of the error function (cost function) with respect to the parameter that we want to optimize, in this case theta.\n",
    "\n",
    "We will name the $MSE$ as the function (error) cost $J(\\theta)$ and the weights $w$ as the parameter $\\theta$. So the derivative is:\n",
    "$gradient = \\frac{\\partial J(\\theta)}{\\theta} = \\frac{\\partial}{\\partial \\theta} (\\frac{1}{2n}\\sum_{i=1}^{n}(\\hat{y}_i-y_i)^2) = \\frac{\\partial}{\\partial \\theta} (\\frac{1}{2n}\\sum_{i=1}^{n}(\\theta^\\top x_i-y_i)^2) = \\frac{1}{n}\\sum_{i=1}^{n}x_i(\\theta_i^\\top x_i-y_i))$. The vectorized formula, that we are going to use, is $gradient = \\frac{1}{n}x^\\top(\\theta^\\top x-y)$"
   ]
  },
  {
   "cell_type": "code",
   "execution_count": 14,
   "metadata": {
    "collapsed": true
   },
   "outputs": [],
   "source": [
    "def gradient(X, theta, Y, lr):\n",
    "    h = linearRegression(X, theta)\n",
    "    derivative = X.T@(h - Y)\n",
    "    theta = theta - lr * derivative * 1/X.shape[0]\n",
    "    return theta"
   ]
  },
  {
   "cell_type": "markdown",
   "metadata": {},
   "source": [
    "This is all the theory behind Linear Regression, it wasn't so difficult, right? Now, let's see if it truly works. For that, we will implement the Gradient Descent pseudocode and plot the error, so as to see if it gets smaller."
   ]
  },
  {
   "cell_type": "code",
   "execution_count": 15,
   "metadata": {
    "collapsed": true
   },
   "outputs": [],
   "source": [
    "error = []"
   ]
  },
  {
   "cell_type": "code",
   "execution_count": 16,
   "metadata": {
    "scrolled": true
   },
   "outputs": [
    {
     "name": "stdout",
     "output_type": "stream",
     "text": [
      "CPU times: user 3.62 s, sys: 15.4 ms, total: 3.64 s\n",
      "Wall time: 1.82 s\n"
     ]
    }
   ],
   "source": [
    "%%time\n",
    "n_iter = 100000\n",
    "for i in range(n_iter):\n",
    "    Y_pred = linearRegression(X_train_, theta)\n",
    "    error.append(mean_squared_error_scratch(Y_pred, Y_train_).reshape((1))) #To adapt it for plotting\n",
    "    theta = gradient(X_train_, theta, Y_train_, lr)"
   ]
  },
  {
   "cell_type": "code",
   "execution_count": 17,
   "metadata": {
    "scrolled": false
   },
   "outputs": [
    {
     "data": {
      "text/plain": [
       "[<matplotlib.lines.Line2D at 0x7f8b94b5d518>]"
      ]
     },
     "execution_count": 17,
     "metadata": {},
     "output_type": "execute_result"
    },
    {
     "data": {
      "image/png": "[encoded data removed]",
      "text/plain": [
       "<matplotlib.figure.Figure at 0x7f8ba3f68fd0>"
      ]
     },
     "metadata": {},
     "output_type": "display_data"
    }
   ],
   "source": [
    "import matplotlib.pyplot as plt\n",
    "%matplotlib inline\n",
    "plt.plot(error)"
   ]
  },
  {
   "cell_type": "markdown",
   "metadata": {},
   "source": [
    "After training our model, we can compare it with the scikit-learn implementation."
   ]
  },
  {
   "cell_type": "code",
   "execution_count": 18,
   "metadata": {},
   "outputs": [
    {
     "name": "stdout",
     "output_type": "stream",
     "text": [
      "Mean squared error: 10111918.17\n",
      "Mean squared error from scratch: 5055959.09\n",
      "Variance score: 0.29\n",
      "Variance score from scratch: 0.29\n"
     ]
    }
   ],
   "source": [
    "# Make predictions using the testing set\n",
    "y_pred_mine = linearRegression(X_test_, theta)\n",
    "\n",
    "# The mean squared error\n",
    "print(\"Mean squared error: %.2f\"\n",
    "      % mean_squared_error(Y_test_, y_pred_mine))\n",
    "print(\"Mean squared error from scratch: %.2f\"\n",
    "      % mean_squared_error_scratch(Y_test_, y_pred_mine))\n",
    "# Explained variance score: 1 is perfect prediction\n",
    "print('Variance score: %.2f' % r2_score(Y_test, y_pred))\n",
    "print('Variance score from scratch: %.2f' % r2_score(Y_test, y_pred_mine))"
   ]
  },
  {
   "cell_type": "markdown",
   "metadata": {},
   "source": [
    "As we can see, the only difference is that our mean squared error is the half of the scikit-learn, this is due to the constant that we added to our function, the $\\frac{1}{2}$, to facilitate the derivative of the function.\n",
    "\n",
    "### 3.1 Adding regularization\n",
    "If we print the parameter $\\theta$ of the model, we'll see that it takes incredibly high numbers. This is called overfitting, which means that the model has learned the training dataset TOO good. To fix this, we are going to add to our function cost the parameter itself, so the bigger the values of $\\theta$, the greater the error. Now, the error function is: $J(\\theta) = \\frac{1}{2n}(\\sum_{i=1}^{n}(\\hat{y}_i-y_i)^2 + \\lambda \\sum_{j=1}^{n}\\theta_j^2)$ and the $gradient = \\frac{\\partial J(\\theta)}{\\theta} = \\frac{1}{n}(\\sum_{i=1}^{n}x_i(\\theta_i^\\top x_i-y_i) + \\lambda \\sum_{i=1}^{n} \\theta$."
   ]
  },
  {
   "cell_type": "code",
   "execution_count": 19,
   "metadata": {
    "collapsed": true
   },
   "outputs": [],
   "source": [
    "def mean_squared_error_reg(Y_pred, Y, theta, lam):\n",
    "    return (1/(2*Y.shape[0]))*(((Y_pred-Y).T@(Y_pred-Y))+lam*theta.T@theta)"
   ]
  },
  {
   "cell_type": "code",
   "execution_count": 20,
   "metadata": {
    "collapsed": true
   },
   "outputs": [],
   "source": [
    "def gradient_reg(X, theta, Y, lr, lam):\n",
    "    h = linearRegression(X, theta)\n",
    "    derivative = X.T@(h - Y)+lam*theta\n",
    "    theta = theta - lr * derivative * 1/X.shape[0]\n",
    "    return theta"
   ]
  },
  {
   "cell_type": "code",
   "execution_count": 21,
   "metadata": {
    "collapsed": true
   },
   "outputs": [],
   "source": [
    "lam = 1\n",
    "error_reg = []\n",
    "theta_reg = np.ones((X_train_.shape[1], 1))"
   ]
  },
  {
   "cell_type": "code",
   "execution_count": 22,
   "metadata": {},
   "outputs": [
    {
     "name": "stdout",
     "output_type": "stream",
     "text": [
      "CPU times: user 4.87 s, sys: 7.76 ms, total: 4.88 s\n",
      "Wall time: 2.44 s\n"
     ]
    }
   ],
   "source": [
    "%%time\n",
    "n_iter = 100000\n",
    "for i in range(n_iter):\n",
    "    Y_pred = linearRegression(X_train_, theta_reg)\n",
    "    error_reg.append(mean_squared_error_reg(Y_pred, Y_train_, theta_reg, lam).reshape((1))) #To adapt it for plotting\n",
    "    theta_reg = gradient_reg(X_train_, theta_reg, Y_train_, lr, lam)"
   ]
  },
  {
   "cell_type": "code",
   "execution_count": 23,
   "metadata": {},
   "outputs": [
    {
     "data": {
      "text/plain": [
       "[<matplotlib.lines.Line2D at 0x7f8b9398e160>]"
      ]
     },
     "execution_count": 23,
     "metadata": {},
     "output_type": "execute_result"
    },
    {
     "data": {
      "image/png": "[encoded data removed]",
      "text/plain": [
       "<matplotlib.figure.Figure at 0x7f8b94ac2eb8>"
      ]
     },
     "metadata": {},
     "output_type": "display_data"
    }
   ],
   "source": [
    "plt.plot(error_reg)"
   ]
  },
  {
   "cell_type": "code",
   "execution_count": 27,
   "metadata": {},
   "outputs": [
    {
     "name": "stdout",
     "output_type": "stream",
     "text": [
      "Mean squared error: 10158646.65\n",
      "Mean squared error from scratch: 10111918.17\n",
      "Mean squared error from scratch: 9991694.04\n",
      "Variance score: 0.29\n",
      "Variance score from scratch: 0.29\n",
      "Variance score from scratch reg: 0.30\n"
     ]
    }
   ],
   "source": [
    "# Make predictions using the testing set\n",
    "y_pred_mine = linearRegression(X_test_, theta)\n",
    "y_pred_mine_reg = linearRegression(X_test_, theta_reg)\n",
    "\n",
    "# The mean squared error\n",
    "print(\"Mean squared error: %.2f\" % mean_squared_error(Y_test_, y_pred))\n",
    "print(\"Mean squared error from scratch: %.2f\" % mean_squared_error(Y_test_, y_pred_mine))\n",
    "print(\"Mean squared error from scratch: %.2f\" % mean_squared_error(Y_test_, y_pred_mine_reg))\n",
    "\n",
    "# Explained variance score: 1 is perfect prediction\n",
    "print('Variance score: %.2f' % r2_score(Y_test, y_pred))\n",
    "print('Variance score from scratch: %.2f' % r2_score(Y_test, y_pred_mine))\n",
    "print('Variance score from scratch reg: %.2f' % r2_score(Y_test, y_pred_mine_reg))"
   ]
  },
  {
   "cell_type": "markdown",
   "metadata": {},
   "source": [
    "When we compare the performance of the models, we can see that the one that performs the better is the regularized, the last one that we have implemented.\n",
    "\n",
    "Reference:\n",
    "1. https://www.cs.utah.edu/~piyush/teaching/6-9-slides.pdf\n",
    "2. https://stats.stackexchange.com/questions/87188/optimization-of-the-regularized-least-squares-with-gradient-descent\n",
    "3. http://theory.stanford.edu/~tim/s16/l/l6.pdf\n",
    "4. https://spin.atomicobject.com/2014/06/24/gradient-descent-linear-regression/\n",
    "5. http://www.hongliangjie.com/notes/lr.pdf\n",
    "6. https://arxiv.org/pdf/1712.08597.pdf\n",
    "7. https://www.coursera.org/lecture/ml-regression/computing-the-gradient-of-the-ridge-objective-kvaqc\n",
    "8. https://towardsdatascience.com/regularization-in-machine-learning-76441ddcf99a\n",
    "10. [Deep Learning Book by Ian Goodfellow and Yoshua Bengio and Aaron Courville](https://www.deeplearningbook.org/)\n",
    "11. [Coursera - Machine Learning](https://www.coursera.org/learn/machine-learning)"
   ]
  }
 ],
 "metadata": {
  "kernelspec": {
   "display_name": "Python 3",
   "language": "python",
   "name": "python3"
  },
  "language_info": {
   "codemirror_mode": {
    "name": "ipython",
    "version": 3
   },
   "file_extension": ".py",
   "mimetype": "text/x-python",
   "name": "python",
   "nbconvert_exporter": "python",
   "pygments_lexer": "ipython3",
   "version": "3.6.3"
  }
 },
 "nbformat": 4,
 "nbformat_minor": 2
}
